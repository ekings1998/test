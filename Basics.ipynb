{
  "cells": [
    {
      "cell_type": "markdown",
      "metadata": {
        "id": "view-in-github",
        "colab_type": "text"
      },
      "source": [
        "<a href=\"https://colab.research.google.com/github/ekings1998/test/blob/main/Basics.ipynb\" target=\"_parent\"><img src=\"https://colab.research.google.com/assets/colab-badge.svg\" alt=\"Open In Colab\"/></a>"
      ]
    },
    {
      "cell_type": "markdown",
      "metadata": {
        "collapsed": true,
        "id": "EvwR34vdXzaf"
      },
      "source": [
        "# Exploring eBay Car Sales Data\n",
        "\n",
        "We'll work with a dataset of used cars from eBay Kleinanzeigen, a classifieds section of the German eBay website.\n",
        "\n",
        "The dataset was originally scraped and uploaded to Kaggle. The original dataset isn't available on Kaggle anymore, but you can find it [here](https://data.world/data-society/used-cars-data).\n",
        "\n",
        "The data dictionary provided with data is as follows:\n",
        "\n",
        "-   `dateCrawled` - When this ad was first crawled. All field-values are taken from this date.\n",
        "-   `name` - Name of the car.\n",
        "-   `seller` - Whether the seller is private or a dealer.\n",
        "-   `offerType` - The type of listing\n",
        "-   `price` - The price on the ad to sell the car.\n",
        "-   `abtest` - Whether the listing is included in an A/B test.\n",
        "-   `vehicleType` - The vehicle Type.\n",
        "-   `yearOfRegistration` - The year in which the car was first registered.\n",
        "-   `gearbox` - The transmission type.\n",
        "-   `powerPS` - The power of the car in PS.\n",
        "-   `model` - The car model name.\n",
        "-   `kilometer` - How many kilometers the car has driven.\n",
        "-   `monthOfRegistration` - The month in which the car was first registered.\n",
        "-   `fuelType` - What type of fuel the car uses.\n",
        "-   `brand` - The brand of the car.\n",
        "-   `notRepairedDamage` - If the car has a damage which is not yet repaired.\n",
        "-   `dateCreated` - The date on which the eBay listing was created.\n",
        "-   `nrOfPictures` - The number of pictures in the ad.\n",
        "-   `postalCode` - The postal code for the location of the vehicle.\n",
        "-   `lastSeenOnline` - When the crawler saw this ad last online.\n",
        "\n",
        "The aim of this project is to clean the data and analyze the included used car listings."
      ]
    },
    {
      "cell_type": "code",
      "execution_count": null,
      "metadata": {
        "id": "xGI-5fKnXzak",
        "outputId": "0848869d-32a8-4776-95ed-558eb5613ef5"
      },
      "outputs": [
        {
          "data": {
            "text/html": [
              "<div>\n",
              "<style scoped>\n",
              "    .dataframe tbody tr th:only-of-type {\n",
              "        vertical-align: middle;\n",
              "    }\n",
              "\n",
              "    .dataframe tbody tr th {\n",
              "        vertical-align: top;\n",
              "    }\n",
              "\n",
              "    .dataframe thead th {\n",
              "        text-align: right;\n",
              "    }\n",
              "</style>\n",
              "<table border=\"1\" class=\"dataframe\">\n",
              "  <thead>\n",
              "    <tr style=\"text-align: right;\">\n",
              "      <th></th>\n",
              "      <th>dateCrawled</th>\n",
              "      <th>name</th>\n",
              "      <th>seller</th>\n",
              "      <th>offerType</th>\n",
              "      <th>price</th>\n",
              "      <th>abtest</th>\n",
              "      <th>vehicleType</th>\n",
              "      <th>yearOfRegistration</th>\n",
              "      <th>gearbox</th>\n",
              "      <th>powerPS</th>\n",
              "      <th>model</th>\n",
              "      <th>odometer</th>\n",
              "      <th>monthOfRegistration</th>\n",
              "      <th>fuelType</th>\n",
              "      <th>brand</th>\n",
              "      <th>notRepairedDamage</th>\n",
              "      <th>dateCreated</th>\n",
              "      <th>nrOfPictures</th>\n",
              "      <th>postalCode</th>\n",
              "      <th>lastSeen</th>\n",
              "    </tr>\n",
              "  </thead>\n",
              "  <tbody>\n",
              "    <tr>\n",
              "      <th>0</th>\n",
              "      <td>2016-03-26 17:47:46</td>\n",
              "      <td>Peugeot_807_160_NAVTECH_ON_BOARD</td>\n",
              "      <td>privat</td>\n",
              "      <td>Angebot</td>\n",
              "      <td>$5,000</td>\n",
              "      <td>control</td>\n",
              "      <td>bus</td>\n",
              "      <td>2004</td>\n",
              "      <td>manuell</td>\n",
              "      <td>158</td>\n",
              "      <td>andere</td>\n",
              "      <td>150,000km</td>\n",
              "      <td>3</td>\n",
              "      <td>lpg</td>\n",
              "      <td>peugeot</td>\n",
              "      <td>nein</td>\n",
              "      <td>2016-03-26 00:00:00</td>\n",
              "      <td>0</td>\n",
              "      <td>79588</td>\n",
              "      <td>2016-04-06 06:45:54</td>\n",
              "    </tr>\n",
              "    <tr>\n",
              "      <th>1</th>\n",
              "      <td>2016-04-04 13:38:56</td>\n",
              "      <td>BMW_740i_4_4_Liter_HAMANN_UMBAU_Mega_Optik</td>\n",
              "      <td>privat</td>\n",
              "      <td>Angebot</td>\n",
              "      <td>$8,500</td>\n",
              "      <td>control</td>\n",
              "      <td>limousine</td>\n",
              "      <td>1997</td>\n",
              "      <td>automatik</td>\n",
              "      <td>286</td>\n",
              "      <td>7er</td>\n",
              "      <td>150,000km</td>\n",
              "      <td>6</td>\n",
              "      <td>benzin</td>\n",
              "      <td>bmw</td>\n",
              "      <td>nein</td>\n",
              "      <td>2016-04-04 00:00:00</td>\n",
              "      <td>0</td>\n",
              "      <td>71034</td>\n",
              "      <td>2016-04-06 14:45:08</td>\n",
              "    </tr>\n",
              "    <tr>\n",
              "      <th>2</th>\n",
              "      <td>2016-03-26 18:57:24</td>\n",
              "      <td>Volkswagen_Golf_1.6_United</td>\n",
              "      <td>privat</td>\n",
              "      <td>Angebot</td>\n",
              "      <td>$8,990</td>\n",
              "      <td>test</td>\n",
              "      <td>limousine</td>\n",
              "      <td>2009</td>\n",
              "      <td>manuell</td>\n",
              "      <td>102</td>\n",
              "      <td>golf</td>\n",
              "      <td>70,000km</td>\n",
              "      <td>7</td>\n",
              "      <td>benzin</td>\n",
              "      <td>volkswagen</td>\n",
              "      <td>nein</td>\n",
              "      <td>2016-03-26 00:00:00</td>\n",
              "      <td>0</td>\n",
              "      <td>35394</td>\n",
              "      <td>2016-04-06 20:15:37</td>\n",
              "    </tr>\n",
              "    <tr>\n",
              "      <th>3</th>\n",
              "      <td>2016-03-12 16:58:10</td>\n",
              "      <td>Smart_smart_fortwo_coupe_softouch/F1/Klima/Pan...</td>\n",
              "      <td>privat</td>\n",
              "      <td>Angebot</td>\n",
              "      <td>$4,350</td>\n",
              "      <td>control</td>\n",
              "      <td>kleinwagen</td>\n",
              "      <td>2007</td>\n",
              "      <td>automatik</td>\n",
              "      <td>71</td>\n",
              "      <td>fortwo</td>\n",
              "      <td>70,000km</td>\n",
              "      <td>6</td>\n",
              "      <td>benzin</td>\n",
              "      <td>smart</td>\n",
              "      <td>nein</td>\n",
              "      <td>2016-03-12 00:00:00</td>\n",
              "      <td>0</td>\n",
              "      <td>33729</td>\n",
              "      <td>2016-03-15 03:16:28</td>\n",
              "    </tr>\n",
              "    <tr>\n",
              "      <th>4</th>\n",
              "      <td>2016-04-01 14:38:50</td>\n",
              "      <td>Ford_Focus_1_6_Benzin_TÜV_neu_ist_sehr_gepfleg...</td>\n",
              "      <td>privat</td>\n",
              "      <td>Angebot</td>\n",
              "      <td>$1,350</td>\n",
              "      <td>test</td>\n",
              "      <td>kombi</td>\n",
              "      <td>2003</td>\n",
              "      <td>manuell</td>\n",
              "      <td>0</td>\n",
              "      <td>focus</td>\n",
              "      <td>150,000km</td>\n",
              "      <td>7</td>\n",
              "      <td>benzin</td>\n",
              "      <td>ford</td>\n",
              "      <td>nein</td>\n",
              "      <td>2016-04-01 00:00:00</td>\n",
              "      <td>0</td>\n",
              "      <td>39218</td>\n",
              "      <td>2016-04-01 14:38:50</td>\n",
              "    </tr>\n",
              "    <tr>\n",
              "      <th>...</th>\n",
              "      <td>...</td>\n",
              "      <td>...</td>\n",
              "      <td>...</td>\n",
              "      <td>...</td>\n",
              "      <td>...</td>\n",
              "      <td>...</td>\n",
              "      <td>...</td>\n",
              "      <td>...</td>\n",
              "      <td>...</td>\n",
              "      <td>...</td>\n",
              "      <td>...</td>\n",
              "      <td>...</td>\n",
              "      <td>...</td>\n",
              "      <td>...</td>\n",
              "      <td>...</td>\n",
              "      <td>...</td>\n",
              "      <td>...</td>\n",
              "      <td>...</td>\n",
              "      <td>...</td>\n",
              "      <td>...</td>\n",
              "    </tr>\n",
              "    <tr>\n",
              "      <th>49995</th>\n",
              "      <td>2016-03-27 14:38:19</td>\n",
              "      <td>Audi_Q5_3.0_TDI_qu._S_tr.__Navi__Panorama__Xenon</td>\n",
              "      <td>privat</td>\n",
              "      <td>Angebot</td>\n",
              "      <td>$24,900</td>\n",
              "      <td>control</td>\n",
              "      <td>limousine</td>\n",
              "      <td>2011</td>\n",
              "      <td>automatik</td>\n",
              "      <td>239</td>\n",
              "      <td>q5</td>\n",
              "      <td>100,000km</td>\n",
              "      <td>1</td>\n",
              "      <td>diesel</td>\n",
              "      <td>audi</td>\n",
              "      <td>nein</td>\n",
              "      <td>2016-03-27 00:00:00</td>\n",
              "      <td>0</td>\n",
              "      <td>82131</td>\n",
              "      <td>2016-04-01 13:47:40</td>\n",
              "    </tr>\n",
              "    <tr>\n",
              "      <th>49996</th>\n",
              "      <td>2016-03-28 10:50:25</td>\n",
              "      <td>Opel_Astra_F_Cabrio_Bertone_Edition___TÜV_neu+...</td>\n",
              "      <td>privat</td>\n",
              "      <td>Angebot</td>\n",
              "      <td>$1,980</td>\n",
              "      <td>control</td>\n",
              "      <td>cabrio</td>\n",
              "      <td>1996</td>\n",
              "      <td>manuell</td>\n",
              "      <td>75</td>\n",
              "      <td>astra</td>\n",
              "      <td>150,000km</td>\n",
              "      <td>5</td>\n",
              "      <td>benzin</td>\n",
              "      <td>opel</td>\n",
              "      <td>nein</td>\n",
              "      <td>2016-03-28 00:00:00</td>\n",
              "      <td>0</td>\n",
              "      <td>44807</td>\n",
              "      <td>2016-04-02 14:18:02</td>\n",
              "    </tr>\n",
              "    <tr>\n",
              "      <th>49997</th>\n",
              "      <td>2016-04-02 14:44:48</td>\n",
              "      <td>Fiat_500_C_1.2_Dualogic_Lounge</td>\n",
              "      <td>privat</td>\n",
              "      <td>Angebot</td>\n",
              "      <td>$13,200</td>\n",
              "      <td>test</td>\n",
              "      <td>cabrio</td>\n",
              "      <td>2014</td>\n",
              "      <td>automatik</td>\n",
              "      <td>69</td>\n",
              "      <td>500</td>\n",
              "      <td>5,000km</td>\n",
              "      <td>11</td>\n",
              "      <td>benzin</td>\n",
              "      <td>fiat</td>\n",
              "      <td>nein</td>\n",
              "      <td>2016-04-02 00:00:00</td>\n",
              "      <td>0</td>\n",
              "      <td>73430</td>\n",
              "      <td>2016-04-04 11:47:27</td>\n",
              "    </tr>\n",
              "    <tr>\n",
              "      <th>49998</th>\n",
              "      <td>2016-03-08 19:25:42</td>\n",
              "      <td>Audi_A3_2.0_TDI_Sportback_Ambition</td>\n",
              "      <td>privat</td>\n",
              "      <td>Angebot</td>\n",
              "      <td>$22,900</td>\n",
              "      <td>control</td>\n",
              "      <td>kombi</td>\n",
              "      <td>2013</td>\n",
              "      <td>manuell</td>\n",
              "      <td>150</td>\n",
              "      <td>a3</td>\n",
              "      <td>40,000km</td>\n",
              "      <td>11</td>\n",
              "      <td>diesel</td>\n",
              "      <td>audi</td>\n",
              "      <td>nein</td>\n",
              "      <td>2016-03-08 00:00:00</td>\n",
              "      <td>0</td>\n",
              "      <td>35683</td>\n",
              "      <td>2016-04-05 16:45:07</td>\n",
              "    </tr>\n",
              "    <tr>\n",
              "      <th>49999</th>\n",
              "      <td>2016-03-14 00:42:12</td>\n",
              "      <td>Opel_Vectra_1.6_16V</td>\n",
              "      <td>privat</td>\n",
              "      <td>Angebot</td>\n",
              "      <td>$1,250</td>\n",
              "      <td>control</td>\n",
              "      <td>limousine</td>\n",
              "      <td>1996</td>\n",
              "      <td>manuell</td>\n",
              "      <td>101</td>\n",
              "      <td>vectra</td>\n",
              "      <td>150,000km</td>\n",
              "      <td>1</td>\n",
              "      <td>benzin</td>\n",
              "      <td>opel</td>\n",
              "      <td>nein</td>\n",
              "      <td>2016-03-13 00:00:00</td>\n",
              "      <td>0</td>\n",
              "      <td>45897</td>\n",
              "      <td>2016-04-06 21:18:48</td>\n",
              "    </tr>\n",
              "  </tbody>\n",
              "</table>\n",
              "<p>50000 rows × 20 columns</p>\n",
              "</div>"
            ],
            "text/plain": [
              "               dateCrawled                                               name  \\\n",
              "0      2016-03-26 17:47:46                   Peugeot_807_160_NAVTECH_ON_BOARD   \n",
              "1      2016-04-04 13:38:56         BMW_740i_4_4_Liter_HAMANN_UMBAU_Mega_Optik   \n",
              "2      2016-03-26 18:57:24                         Volkswagen_Golf_1.6_United   \n",
              "3      2016-03-12 16:58:10  Smart_smart_fortwo_coupe_softouch/F1/Klima/Pan...   \n",
              "4      2016-04-01 14:38:50  Ford_Focus_1_6_Benzin_TÜV_neu_ist_sehr_gepfleg...   \n",
              "...                    ...                                                ...   \n",
              "49995  2016-03-27 14:38:19   Audi_Q5_3.0_TDI_qu._S_tr.__Navi__Panorama__Xenon   \n",
              "49996  2016-03-28 10:50:25  Opel_Astra_F_Cabrio_Bertone_Edition___TÜV_neu+...   \n",
              "49997  2016-04-02 14:44:48                     Fiat_500_C_1.2_Dualogic_Lounge   \n",
              "49998  2016-03-08 19:25:42                 Audi_A3_2.0_TDI_Sportback_Ambition   \n",
              "49999  2016-03-14 00:42:12                                Opel_Vectra_1.6_16V   \n",
              "\n",
              "       seller offerType    price   abtest vehicleType  yearOfRegistration  \\\n",
              "0      privat   Angebot   $5,000  control         bus                2004   \n",
              "1      privat   Angebot   $8,500  control   limousine                1997   \n",
              "2      privat   Angebot   $8,990     test   limousine                2009   \n",
              "3      privat   Angebot   $4,350  control  kleinwagen                2007   \n",
              "4      privat   Angebot   $1,350     test       kombi                2003   \n",
              "...       ...       ...      ...      ...         ...                 ...   \n",
              "49995  privat   Angebot  $24,900  control   limousine                2011   \n",
              "49996  privat   Angebot   $1,980  control      cabrio                1996   \n",
              "49997  privat   Angebot  $13,200     test      cabrio                2014   \n",
              "49998  privat   Angebot  $22,900  control       kombi                2013   \n",
              "49999  privat   Angebot   $1,250  control   limousine                1996   \n",
              "\n",
              "         gearbox  powerPS   model   odometer  monthOfRegistration fuelType  \\\n",
              "0        manuell      158  andere  150,000km                    3      lpg   \n",
              "1      automatik      286     7er  150,000km                    6   benzin   \n",
              "2        manuell      102    golf   70,000km                    7   benzin   \n",
              "3      automatik       71  fortwo   70,000km                    6   benzin   \n",
              "4        manuell        0   focus  150,000km                    7   benzin   \n",
              "...          ...      ...     ...        ...                  ...      ...   \n",
              "49995  automatik      239      q5  100,000km                    1   diesel   \n",
              "49996    manuell       75   astra  150,000km                    5   benzin   \n",
              "49997  automatik       69     500    5,000km                   11   benzin   \n",
              "49998    manuell      150      a3   40,000km                   11   diesel   \n",
              "49999    manuell      101  vectra  150,000km                    1   benzin   \n",
              "\n",
              "            brand notRepairedDamage          dateCreated  nrOfPictures  \\\n",
              "0         peugeot              nein  2016-03-26 00:00:00             0   \n",
              "1             bmw              nein  2016-04-04 00:00:00             0   \n",
              "2      volkswagen              nein  2016-03-26 00:00:00             0   \n",
              "3           smart              nein  2016-03-12 00:00:00             0   \n",
              "4            ford              nein  2016-04-01 00:00:00             0   \n",
              "...           ...               ...                  ...           ...   \n",
              "49995        audi              nein  2016-03-27 00:00:00             0   \n",
              "49996        opel              nein  2016-03-28 00:00:00             0   \n",
              "49997        fiat              nein  2016-04-02 00:00:00             0   \n",
              "49998        audi              nein  2016-03-08 00:00:00             0   \n",
              "49999        opel              nein  2016-03-13 00:00:00             0   \n",
              "\n",
              "       postalCode             lastSeen  \n",
              "0           79588  2016-04-06 06:45:54  \n",
              "1           71034  2016-04-06 14:45:08  \n",
              "2           35394  2016-04-06 20:15:37  \n",
              "3           33729  2016-03-15 03:16:28  \n",
              "4           39218  2016-04-01 14:38:50  \n",
              "...           ...                  ...  \n",
              "49995       82131  2016-04-01 13:47:40  \n",
              "49996       44807  2016-04-02 14:18:02  \n",
              "49997       73430  2016-04-04 11:47:27  \n",
              "49998       35683  2016-04-05 16:45:07  \n",
              "49999       45897  2016-04-06 21:18:48  \n",
              "\n",
              "[50000 rows x 20 columns]"
            ]
          },
          "execution_count": 1,
          "metadata": {},
          "output_type": "execute_result"
        }
      ],
      "source": [
        "import pandas as pd\n",
        "import numpy as np\n",
        "\n",
        "autos = pd.read_csv('autos.csv', encoding='latin-1') #We need to specify another encoding rather than the default one since the default (UTF-8) didn't work.\n",
        "#print(autos.head())\n",
        "autos #I prefer to call the variable directly since Jupyter Notebook renders the first few and last few values more comprehensively than by printing it out with print()"
      ]
    },
    {
      "cell_type": "code",
      "execution_count": null,
      "metadata": {
        "id": "v_c3pS1pXzal",
        "outputId": "da0db187-491b-47f8-aa50-5e2a93bc304f"
      },
      "outputs": [
        {
          "name": "stdout",
          "output_type": "stream",
          "text": [
            "<class 'pandas.core.frame.DataFrame'>\n",
            "RangeIndex: 50000 entries, 0 to 49999\n",
            "Data columns (total 20 columns):\n",
            " #   Column               Non-Null Count  Dtype \n",
            "---  ------               --------------  ----- \n",
            " 0   dateCrawled          50000 non-null  object\n",
            " 1   name                 50000 non-null  object\n",
            " 2   seller               50000 non-null  object\n",
            " 3   offerType            50000 non-null  object\n",
            " 4   price                50000 non-null  object\n",
            " 5   abtest               50000 non-null  object\n",
            " 6   vehicleType          44905 non-null  object\n",
            " 7   yearOfRegistration   50000 non-null  int64 \n",
            " 8   gearbox              47320 non-null  object\n",
            " 9   powerPS              50000 non-null  int64 \n",
            " 10  model                47242 non-null  object\n",
            " 11  odometer             50000 non-null  object\n",
            " 12  monthOfRegistration  50000 non-null  int64 \n",
            " 13  fuelType             45518 non-null  object\n",
            " 14  brand                50000 non-null  object\n",
            " 15  notRepairedDamage    40171 non-null  object\n",
            " 16  dateCreated          50000 non-null  object\n",
            " 17  nrOfPictures         50000 non-null  int64 \n",
            " 18  postalCode           50000 non-null  int64 \n",
            " 19  lastSeen             50000 non-null  object\n",
            "dtypes: int64(5), object(15)\n",
            "memory usage: 7.6+ MB\n"
          ]
        }
      ],
      "source": [
        "autos.info()"
      ]
    },
    {
      "cell_type": "code",
      "execution_count": null,
      "metadata": {
        "id": "QVQnbK3pXzam",
        "outputId": "3e1f43e1-6651-430b-aa8a-194360a042ee"
      },
      "outputs": [
        {
          "data": {
            "text/html": [
              "<div>\n",
              "<style scoped>\n",
              "    .dataframe tbody tr th:only-of-type {\n",
              "        vertical-align: middle;\n",
              "    }\n",
              "\n",
              "    .dataframe tbody tr th {\n",
              "        vertical-align: top;\n",
              "    }\n",
              "\n",
              "    .dataframe thead th {\n",
              "        text-align: right;\n",
              "    }\n",
              "</style>\n",
              "<table border=\"1\" class=\"dataframe\">\n",
              "  <thead>\n",
              "    <tr style=\"text-align: right;\">\n",
              "      <th></th>\n",
              "      <th>dateCrawled</th>\n",
              "      <th>name</th>\n",
              "      <th>seller</th>\n",
              "      <th>offerType</th>\n",
              "      <th>price</th>\n",
              "      <th>abtest</th>\n",
              "      <th>vehicleType</th>\n",
              "      <th>yearOfRegistration</th>\n",
              "      <th>gearbox</th>\n",
              "      <th>powerPS</th>\n",
              "      <th>model</th>\n",
              "      <th>odometer</th>\n",
              "      <th>monthOfRegistration</th>\n",
              "      <th>fuelType</th>\n",
              "      <th>brand</th>\n",
              "      <th>notRepairedDamage</th>\n",
              "      <th>dateCreated</th>\n",
              "      <th>nrOfPictures</th>\n",
              "      <th>postalCode</th>\n",
              "      <th>lastSeen</th>\n",
              "    </tr>\n",
              "  </thead>\n",
              "  <tbody>\n",
              "    <tr>\n",
              "      <th>0</th>\n",
              "      <td>2016-03-26 17:47:46</td>\n",
              "      <td>Peugeot_807_160_NAVTECH_ON_BOARD</td>\n",
              "      <td>privat</td>\n",
              "      <td>Angebot</td>\n",
              "      <td>$5,000</td>\n",
              "      <td>control</td>\n",
              "      <td>bus</td>\n",
              "      <td>2004</td>\n",
              "      <td>manuell</td>\n",
              "      <td>158</td>\n",
              "      <td>andere</td>\n",
              "      <td>150,000km</td>\n",
              "      <td>3</td>\n",
              "      <td>lpg</td>\n",
              "      <td>peugeot</td>\n",
              "      <td>nein</td>\n",
              "      <td>2016-03-26 00:00:00</td>\n",
              "      <td>0</td>\n",
              "      <td>79588</td>\n",
              "      <td>2016-04-06 06:45:54</td>\n",
              "    </tr>\n",
              "    <tr>\n",
              "      <th>1</th>\n",
              "      <td>2016-04-04 13:38:56</td>\n",
              "      <td>BMW_740i_4_4_Liter_HAMANN_UMBAU_Mega_Optik</td>\n",
              "      <td>privat</td>\n",
              "      <td>Angebot</td>\n",
              "      <td>$8,500</td>\n",
              "      <td>control</td>\n",
              "      <td>limousine</td>\n",
              "      <td>1997</td>\n",
              "      <td>automatik</td>\n",
              "      <td>286</td>\n",
              "      <td>7er</td>\n",
              "      <td>150,000km</td>\n",
              "      <td>6</td>\n",
              "      <td>benzin</td>\n",
              "      <td>bmw</td>\n",
              "      <td>nein</td>\n",
              "      <td>2016-04-04 00:00:00</td>\n",
              "      <td>0</td>\n",
              "      <td>71034</td>\n",
              "      <td>2016-04-06 14:45:08</td>\n",
              "    </tr>\n",
              "    <tr>\n",
              "      <th>2</th>\n",
              "      <td>2016-03-26 18:57:24</td>\n",
              "      <td>Volkswagen_Golf_1.6_United</td>\n",
              "      <td>privat</td>\n",
              "      <td>Angebot</td>\n",
              "      <td>$8,990</td>\n",
              "      <td>test</td>\n",
              "      <td>limousine</td>\n",
              "      <td>2009</td>\n",
              "      <td>manuell</td>\n",
              "      <td>102</td>\n",
              "      <td>golf</td>\n",
              "      <td>70,000km</td>\n",
              "      <td>7</td>\n",
              "      <td>benzin</td>\n",
              "      <td>volkswagen</td>\n",
              "      <td>nein</td>\n",
              "      <td>2016-03-26 00:00:00</td>\n",
              "      <td>0</td>\n",
              "      <td>35394</td>\n",
              "      <td>2016-04-06 20:15:37</td>\n",
              "    </tr>\n",
              "    <tr>\n",
              "      <th>3</th>\n",
              "      <td>2016-03-12 16:58:10</td>\n",
              "      <td>Smart_smart_fortwo_coupe_softouch/F1/Klima/Pan...</td>\n",
              "      <td>privat</td>\n",
              "      <td>Angebot</td>\n",
              "      <td>$4,350</td>\n",
              "      <td>control</td>\n",
              "      <td>kleinwagen</td>\n",
              "      <td>2007</td>\n",
              "      <td>automatik</td>\n",
              "      <td>71</td>\n",
              "      <td>fortwo</td>\n",
              "      <td>70,000km</td>\n",
              "      <td>6</td>\n",
              "      <td>benzin</td>\n",
              "      <td>smart</td>\n",
              "      <td>nein</td>\n",
              "      <td>2016-03-12 00:00:00</td>\n",
              "      <td>0</td>\n",
              "      <td>33729</td>\n",
              "      <td>2016-03-15 03:16:28</td>\n",
              "    </tr>\n",
              "    <tr>\n",
              "      <th>4</th>\n",
              "      <td>2016-04-01 14:38:50</td>\n",
              "      <td>Ford_Focus_1_6_Benzin_TÜV_neu_ist_sehr_gepfleg...</td>\n",
              "      <td>privat</td>\n",
              "      <td>Angebot</td>\n",
              "      <td>$1,350</td>\n",
              "      <td>test</td>\n",
              "      <td>kombi</td>\n",
              "      <td>2003</td>\n",
              "      <td>manuell</td>\n",
              "      <td>0</td>\n",
              "      <td>focus</td>\n",
              "      <td>150,000km</td>\n",
              "      <td>7</td>\n",
              "      <td>benzin</td>\n",
              "      <td>ford</td>\n",
              "      <td>nein</td>\n",
              "      <td>2016-04-01 00:00:00</td>\n",
              "      <td>0</td>\n",
              "      <td>39218</td>\n",
              "      <td>2016-04-01 14:38:50</td>\n",
              "    </tr>\n",
              "  </tbody>\n",
              "</table>\n",
              "</div>"
            ],
            "text/plain": [
              "           dateCrawled                                               name  \\\n",
              "0  2016-03-26 17:47:46                   Peugeot_807_160_NAVTECH_ON_BOARD   \n",
              "1  2016-04-04 13:38:56         BMW_740i_4_4_Liter_HAMANN_UMBAU_Mega_Optik   \n",
              "2  2016-03-26 18:57:24                         Volkswagen_Golf_1.6_United   \n",
              "3  2016-03-12 16:58:10  Smart_smart_fortwo_coupe_softouch/F1/Klima/Pan...   \n",
              "4  2016-04-01 14:38:50  Ford_Focus_1_6_Benzin_TÜV_neu_ist_sehr_gepfleg...   \n",
              "\n",
              "   seller offerType   price   abtest vehicleType  yearOfRegistration  \\\n",
              "0  privat   Angebot  $5,000  control         bus                2004   \n",
              "1  privat   Angebot  $8,500  control   limousine                1997   \n",
              "2  privat   Angebot  $8,990     test   limousine                2009   \n",
              "3  privat   Angebot  $4,350  control  kleinwagen                2007   \n",
              "4  privat   Angebot  $1,350     test       kombi                2003   \n",
              "\n",
              "     gearbox  powerPS   model   odometer  monthOfRegistration fuelType  \\\n",
              "0    manuell      158  andere  150,000km                    3      lpg   \n",
              "1  automatik      286     7er  150,000km                    6   benzin   \n",
              "2    manuell      102    golf   70,000km                    7   benzin   \n",
              "3  automatik       71  fortwo   70,000km                    6   benzin   \n",
              "4    manuell        0   focus  150,000km                    7   benzin   \n",
              "\n",
              "        brand notRepairedDamage          dateCreated  nrOfPictures  \\\n",
              "0     peugeot              nein  2016-03-26 00:00:00             0   \n",
              "1         bmw              nein  2016-04-04 00:00:00             0   \n",
              "2  volkswagen              nein  2016-03-26 00:00:00             0   \n",
              "3       smart              nein  2016-03-12 00:00:00             0   \n",
              "4        ford              nein  2016-04-01 00:00:00             0   \n",
              "\n",
              "   postalCode             lastSeen  \n",
              "0       79588  2016-04-06 06:45:54  \n",
              "1       71034  2016-04-06 14:45:08  \n",
              "2       35394  2016-04-06 20:15:37  \n",
              "3       33729  2016-03-15 03:16:28  \n",
              "4       39218  2016-04-01 14:38:50  "
            ]
          },
          "execution_count": 3,
          "metadata": {},
          "output_type": "execute_result"
        }
      ],
      "source": [
        "autos.head()"
      ]
    },
    {
      "cell_type": "markdown",
      "metadata": {
        "id": "Hwmt8iMZXzan"
      },
      "source": [
        "## Observations:\n",
        "\n",
        "So far we have just read the csv file and store the values in a Dataframe called Auto. Preliminarly we can observe the following:\n",
        "\n",
        "1. The dataset contains 20 columns, most of which are strings.\n",
        "2. There are many words in the rows (index) that are in German so we will need to change that to English to have a better understanding of the data.\n",
        "3. We have 5 columns with Null/NaN values (but none have more than ~20% null values):\n",
        "    1. `vehicleType` with 44,905 from 50,000\n",
        "    2. `gearbox` with 47,320/50,000\n",
        "    3. `model` with 47,242/50,000\n",
        "    4. `fuelType` with 45,518/50,000\n",
        "    5. `notRepairedDamage` with 40,171/50,000\n",
        "4. We have items that need to be cleaned to analyze them. A good example of this is the Odometer data, it's a mix of an integer with string (km), and if we want to do further analysis with this column, the best approach will be to convert the rows of that column to int and modify the column name to odometer_km since it looks that the majority of them are expressed in km.\n",
        "5. The column names use camelcase instead of Python's preferred snakecase, which means we can't just replace spaces with underscores."
      ]
    },
    {
      "cell_type": "markdown",
      "metadata": {
        "id": "YKjZi_ufXzan"
      },
      "source": [
        "## Converting the columns name to the standard\n",
        "\n",
        "Let's convert the column names from camelcase to snakecase and reword some of the column names to be more descriptive. First, we will display the actual column name."
      ]
    },
    {
      "cell_type": "code",
      "execution_count": null,
      "metadata": {
        "id": "aIohXxStXzao",
        "outputId": "fc9a4ef8-7d4e-4700-ab92-0b7918c39a72"
      },
      "outputs": [
        {
          "data": {
            "text/plain": [
              "Index(['dateCrawled', 'name', 'seller', 'offerType', 'price', 'abtest',\n",
              "       'vehicleType', 'yearOfRegistration', 'gearbox', 'powerPS', 'model',\n",
              "       'odometer', 'monthOfRegistration', 'fuelType', 'brand',\n",
              "       'notRepairedDamage', 'dateCreated', 'nrOfPictures', 'postalCode',\n",
              "       'lastSeen'],\n",
              "      dtype='object')"
            ]
          },
          "execution_count": 4,
          "metadata": {},
          "output_type": "execute_result"
        }
      ],
      "source": [
        "autos.columns"
      ]
    },
    {
      "cell_type": "markdown",
      "metadata": {
        "id": "0o7YcotoXzap"
      },
      "source": [
        "Now we do the following:\n",
        "\n",
        "- Change the columns from camelcase to snakecase.\n",
        "- Change a few wordings to more accurately describe the columns."
      ]
    },
    {
      "cell_type": "code",
      "execution_count": null,
      "metadata": {
        "id": "-TuNioZGXzaq",
        "outputId": "10f32349-a40e-4115-c1e0-093c71061b2e"
      },
      "outputs": [
        {
          "data": {
            "text/plain": [
              "Index(['date_crawled', 'name', 'seller', 'offer_type', 'price', 'ab_test',\n",
              "       'vehicle_type', 'registration_year', 'gearbox', 'power_ps', 'model',\n",
              "       'odometer', 'registration_month', 'fuel_type', 'brand',\n",
              "       'unrepaired_damage', 'ad_created', 'num_photos', 'postal_code',\n",
              "       'last_seen'],\n",
              "      dtype='object')"
            ]
          },
          "execution_count": 5,
          "metadata": {},
          "output_type": "execute_result"
        }
      ],
      "source": [
        "autos.columns = ['date_crawled', 'name', 'seller', 'offer_type', 'price', 'ab_test',\n",
        "       'vehicle_type', 'registration_year', 'gearbox', 'power_ps', 'model',\n",
        "       'odometer', 'registration_month', 'fuel_type', 'brand',\n",
        "       'unrepaired_damage', 'ad_created', 'num_photos', 'postal_code',\n",
        "       'last_seen']\n",
        "autos.columns\n",
        "#autos.head()"
      ]
    },
    {
      "cell_type": "markdown",
      "metadata": {
        "id": "U_0RuEmGXzar"
      },
      "source": [
        "Let's make sure we can see the data accordingly with the columns."
      ]
    },
    {
      "cell_type": "code",
      "execution_count": null,
      "metadata": {
        "id": "BDvc4k9hXzar",
        "outputId": "64095c7f-636a-411a-ecf2-eb541a34358d"
      },
      "outputs": [
        {
          "data": {
            "text/html": [
              "<div>\n",
              "<style scoped>\n",
              "    .dataframe tbody tr th:only-of-type {\n",
              "        vertical-align: middle;\n",
              "    }\n",
              "\n",
              "    .dataframe tbody tr th {\n",
              "        vertical-align: top;\n",
              "    }\n",
              "\n",
              "    .dataframe thead th {\n",
              "        text-align: right;\n",
              "    }\n",
              "</style>\n",
              "<table border=\"1\" class=\"dataframe\">\n",
              "  <thead>\n",
              "    <tr style=\"text-align: right;\">\n",
              "      <th></th>\n",
              "      <th>date_crawled</th>\n",
              "      <th>name</th>\n",
              "      <th>seller</th>\n",
              "      <th>offer_type</th>\n",
              "      <th>price</th>\n",
              "      <th>ab_test</th>\n",
              "      <th>vehicle_type</th>\n",
              "      <th>registration_year</th>\n",
              "      <th>gearbox</th>\n",
              "      <th>power_ps</th>\n",
              "      <th>model</th>\n",
              "      <th>odometer</th>\n",
              "      <th>registration_month</th>\n",
              "      <th>fuel_type</th>\n",
              "      <th>brand</th>\n",
              "      <th>unrepaired_damage</th>\n",
              "      <th>ad_created</th>\n",
              "      <th>num_photos</th>\n",
              "      <th>postal_code</th>\n",
              "      <th>last_seen</th>\n",
              "    </tr>\n",
              "  </thead>\n",
              "  <tbody>\n",
              "    <tr>\n",
              "      <th>0</th>\n",
              "      <td>2016-03-26 17:47:46</td>\n",
              "      <td>Peugeot_807_160_NAVTECH_ON_BOARD</td>\n",
              "      <td>privat</td>\n",
              "      <td>Angebot</td>\n",
              "      <td>$5,000</td>\n",
              "      <td>control</td>\n",
              "      <td>bus</td>\n",
              "      <td>2004</td>\n",
              "      <td>manuell</td>\n",
              "      <td>158</td>\n",
              "      <td>andere</td>\n",
              "      <td>150,000km</td>\n",
              "      <td>3</td>\n",
              "      <td>lpg</td>\n",
              "      <td>peugeot</td>\n",
              "      <td>nein</td>\n",
              "      <td>2016-03-26 00:00:00</td>\n",
              "      <td>0</td>\n",
              "      <td>79588</td>\n",
              "      <td>2016-04-06 06:45:54</td>\n",
              "    </tr>\n",
              "    <tr>\n",
              "      <th>1</th>\n",
              "      <td>2016-04-04 13:38:56</td>\n",
              "      <td>BMW_740i_4_4_Liter_HAMANN_UMBAU_Mega_Optik</td>\n",
              "      <td>privat</td>\n",
              "      <td>Angebot</td>\n",
              "      <td>$8,500</td>\n",
              "      <td>control</td>\n",
              "      <td>limousine</td>\n",
              "      <td>1997</td>\n",
              "      <td>automatik</td>\n",
              "      <td>286</td>\n",
              "      <td>7er</td>\n",
              "      <td>150,000km</td>\n",
              "      <td>6</td>\n",
              "      <td>benzin</td>\n",
              "      <td>bmw</td>\n",
              "      <td>nein</td>\n",
              "      <td>2016-04-04 00:00:00</td>\n",
              "      <td>0</td>\n",
              "      <td>71034</td>\n",
              "      <td>2016-04-06 14:45:08</td>\n",
              "    </tr>\n",
              "    <tr>\n",
              "      <th>2</th>\n",
              "      <td>2016-03-26 18:57:24</td>\n",
              "      <td>Volkswagen_Golf_1.6_United</td>\n",
              "      <td>privat</td>\n",
              "      <td>Angebot</td>\n",
              "      <td>$8,990</td>\n",
              "      <td>test</td>\n",
              "      <td>limousine</td>\n",
              "      <td>2009</td>\n",
              "      <td>manuell</td>\n",
              "      <td>102</td>\n",
              "      <td>golf</td>\n",
              "      <td>70,000km</td>\n",
              "      <td>7</td>\n",
              "      <td>benzin</td>\n",
              "      <td>volkswagen</td>\n",
              "      <td>nein</td>\n",
              "      <td>2016-03-26 00:00:00</td>\n",
              "      <td>0</td>\n",
              "      <td>35394</td>\n",
              "      <td>2016-04-06 20:15:37</td>\n",
              "    </tr>\n",
              "    <tr>\n",
              "      <th>3</th>\n",
              "      <td>2016-03-12 16:58:10</td>\n",
              "      <td>Smart_smart_fortwo_coupe_softouch/F1/Klima/Pan...</td>\n",
              "      <td>privat</td>\n",
              "      <td>Angebot</td>\n",
              "      <td>$4,350</td>\n",
              "      <td>control</td>\n",
              "      <td>kleinwagen</td>\n",
              "      <td>2007</td>\n",
              "      <td>automatik</td>\n",
              "      <td>71</td>\n",
              "      <td>fortwo</td>\n",
              "      <td>70,000km</td>\n",
              "      <td>6</td>\n",
              "      <td>benzin</td>\n",
              "      <td>smart</td>\n",
              "      <td>nein</td>\n",
              "      <td>2016-03-12 00:00:00</td>\n",
              "      <td>0</td>\n",
              "      <td>33729</td>\n",
              "      <td>2016-03-15 03:16:28</td>\n",
              "    </tr>\n",
              "    <tr>\n",
              "      <th>4</th>\n",
              "      <td>2016-04-01 14:38:50</td>\n",
              "      <td>Ford_Focus_1_6_Benzin_TÜV_neu_ist_sehr_gepfleg...</td>\n",
              "      <td>privat</td>\n",
              "      <td>Angebot</td>\n",
              "      <td>$1,350</td>\n",
              "      <td>test</td>\n",
              "      <td>kombi</td>\n",
              "      <td>2003</td>\n",
              "      <td>manuell</td>\n",
              "      <td>0</td>\n",
              "      <td>focus</td>\n",
              "      <td>150,000km</td>\n",
              "      <td>7</td>\n",
              "      <td>benzin</td>\n",
              "      <td>ford</td>\n",
              "      <td>nein</td>\n",
              "      <td>2016-04-01 00:00:00</td>\n",
              "      <td>0</td>\n",
              "      <td>39218</td>\n",
              "      <td>2016-04-01 14:38:50</td>\n",
              "    </tr>\n",
              "  </tbody>\n",
              "</table>\n",
              "</div>"
            ],
            "text/plain": [
              "          date_crawled                                               name  \\\n",
              "0  2016-03-26 17:47:46                   Peugeot_807_160_NAVTECH_ON_BOARD   \n",
              "1  2016-04-04 13:38:56         BMW_740i_4_4_Liter_HAMANN_UMBAU_Mega_Optik   \n",
              "2  2016-03-26 18:57:24                         Volkswagen_Golf_1.6_United   \n",
              "3  2016-03-12 16:58:10  Smart_smart_fortwo_coupe_softouch/F1/Klima/Pan...   \n",
              "4  2016-04-01 14:38:50  Ford_Focus_1_6_Benzin_TÜV_neu_ist_sehr_gepfleg...   \n",
              "\n",
              "   seller offer_type   price  ab_test vehicle_type  registration_year  \\\n",
              "0  privat    Angebot  $5,000  control          bus               2004   \n",
              "1  privat    Angebot  $8,500  control    limousine               1997   \n",
              "2  privat    Angebot  $8,990     test    limousine               2009   \n",
              "3  privat    Angebot  $4,350  control   kleinwagen               2007   \n",
              "4  privat    Angebot  $1,350     test        kombi               2003   \n",
              "\n",
              "     gearbox  power_ps   model   odometer  registration_month fuel_type  \\\n",
              "0    manuell       158  andere  150,000km                   3       lpg   \n",
              "1  automatik       286     7er  150,000km                   6    benzin   \n",
              "2    manuell       102    golf   70,000km                   7    benzin   \n",
              "3  automatik        71  fortwo   70,000km                   6    benzin   \n",
              "4    manuell         0   focus  150,000km                   7    benzin   \n",
              "\n",
              "        brand unrepaired_damage           ad_created  num_photos  postal_code  \\\n",
              "0     peugeot              nein  2016-03-26 00:00:00           0        79588   \n",
              "1         bmw              nein  2016-04-04 00:00:00           0        71034   \n",
              "2  volkswagen              nein  2016-03-26 00:00:00           0        35394   \n",
              "3       smart              nein  2016-03-12 00:00:00           0        33729   \n",
              "4        ford              nein  2016-04-01 00:00:00           0        39218   \n",
              "\n",
              "             last_seen  \n",
              "0  2016-04-06 06:45:54  \n",
              "1  2016-04-06 14:45:08  \n",
              "2  2016-04-06 20:15:37  \n",
              "3  2016-03-15 03:16:28  \n",
              "4  2016-04-01 14:38:50  "
            ]
          },
          "execution_count": 6,
          "metadata": {},
          "output_type": "execute_result"
        }
      ],
      "source": [
        "autos.head()"
      ]
    },
    {
      "cell_type": "markdown",
      "metadata": {
        "id": "igRhWZoTXzas"
      },
      "source": [
        "## Initial Exploration and Cleaning\n",
        "\n",
        "Now let's do some basic data exploration to determine what other cleaning tasks need to be done. Initially we will look for:\n",
        "\n",
        "- Text columns where all or almost all values are the same. These can often be dropped as they don't have useful information for analysis.\n",
        "- Examples of numeric data stored as text which can be cleaned and converted."
      ]
    },
    {
      "cell_type": "code",
      "execution_count": null,
      "metadata": {
        "id": "j7lPUCfbXzas",
        "outputId": "69d895ac-e044-44dd-9efc-10af422fad9a"
      },
      "outputs": [
        {
          "data": {
            "text/html": [
              "<div>\n",
              "<style scoped>\n",
              "    .dataframe tbody tr th:only-of-type {\n",
              "        vertical-align: middle;\n",
              "    }\n",
              "\n",
              "    .dataframe tbody tr th {\n",
              "        vertical-align: top;\n",
              "    }\n",
              "\n",
              "    .dataframe thead th {\n",
              "        text-align: right;\n",
              "    }\n",
              "</style>\n",
              "<table border=\"1\" class=\"dataframe\">\n",
              "  <thead>\n",
              "    <tr style=\"text-align: right;\">\n",
              "      <th></th>\n",
              "      <th>date_crawled</th>\n",
              "      <th>name</th>\n",
              "      <th>seller</th>\n",
              "      <th>offer_type</th>\n",
              "      <th>price</th>\n",
              "      <th>ab_test</th>\n",
              "      <th>vehicle_type</th>\n",
              "      <th>registration_year</th>\n",
              "      <th>gearbox</th>\n",
              "      <th>power_ps</th>\n",
              "      <th>model</th>\n",
              "      <th>odometer</th>\n",
              "      <th>registration_month</th>\n",
              "      <th>fuel_type</th>\n",
              "      <th>brand</th>\n",
              "      <th>unrepaired_damage</th>\n",
              "      <th>ad_created</th>\n",
              "      <th>num_photos</th>\n",
              "      <th>postal_code</th>\n",
              "      <th>last_seen</th>\n",
              "    </tr>\n",
              "  </thead>\n",
              "  <tbody>\n",
              "    <tr>\n",
              "      <th>count</th>\n",
              "      <td>50000</td>\n",
              "      <td>50000</td>\n",
              "      <td>50000</td>\n",
              "      <td>50000</td>\n",
              "      <td>50000</td>\n",
              "      <td>50000</td>\n",
              "      <td>44905</td>\n",
              "      <td>50000.000000</td>\n",
              "      <td>47320</td>\n",
              "      <td>50000.000000</td>\n",
              "      <td>47242</td>\n",
              "      <td>50000</td>\n",
              "      <td>50000.000000</td>\n",
              "      <td>45518</td>\n",
              "      <td>50000</td>\n",
              "      <td>40171</td>\n",
              "      <td>50000</td>\n",
              "      <td>50000.0</td>\n",
              "      <td>50000.000000</td>\n",
              "      <td>50000</td>\n",
              "    </tr>\n",
              "    <tr>\n",
              "      <th>unique</th>\n",
              "      <td>48213</td>\n",
              "      <td>38754</td>\n",
              "      <td>2</td>\n",
              "      <td>2</td>\n",
              "      <td>2357</td>\n",
              "      <td>2</td>\n",
              "      <td>8</td>\n",
              "      <td>NaN</td>\n",
              "      <td>2</td>\n",
              "      <td>NaN</td>\n",
              "      <td>245</td>\n",
              "      <td>13</td>\n",
              "      <td>NaN</td>\n",
              "      <td>7</td>\n",
              "      <td>40</td>\n",
              "      <td>2</td>\n",
              "      <td>76</td>\n",
              "      <td>NaN</td>\n",
              "      <td>NaN</td>\n",
              "      <td>39481</td>\n",
              "    </tr>\n",
              "    <tr>\n",
              "      <th>top</th>\n",
              "      <td>2016-03-14 20:50:02</td>\n",
              "      <td>Ford_Fiesta</td>\n",
              "      <td>privat</td>\n",
              "      <td>Angebot</td>\n",
              "      <td>$0</td>\n",
              "      <td>test</td>\n",
              "      <td>limousine</td>\n",
              "      <td>NaN</td>\n",
              "      <td>manuell</td>\n",
              "      <td>NaN</td>\n",
              "      <td>golf</td>\n",
              "      <td>150,000km</td>\n",
              "      <td>NaN</td>\n",
              "      <td>benzin</td>\n",
              "      <td>volkswagen</td>\n",
              "      <td>nein</td>\n",
              "      <td>2016-04-03 00:00:00</td>\n",
              "      <td>NaN</td>\n",
              "      <td>NaN</td>\n",
              "      <td>2016-04-07 06:17:27</td>\n",
              "    </tr>\n",
              "    <tr>\n",
              "      <th>freq</th>\n",
              "      <td>3</td>\n",
              "      <td>78</td>\n",
              "      <td>49999</td>\n",
              "      <td>49999</td>\n",
              "      <td>1421</td>\n",
              "      <td>25756</td>\n",
              "      <td>12859</td>\n",
              "      <td>NaN</td>\n",
              "      <td>36993</td>\n",
              "      <td>NaN</td>\n",
              "      <td>4024</td>\n",
              "      <td>32424</td>\n",
              "      <td>NaN</td>\n",
              "      <td>30107</td>\n",
              "      <td>10687</td>\n",
              "      <td>35232</td>\n",
              "      <td>1946</td>\n",
              "      <td>NaN</td>\n",
              "      <td>NaN</td>\n",
              "      <td>8</td>\n",
              "    </tr>\n",
              "    <tr>\n",
              "      <th>mean</th>\n",
              "      <td>NaN</td>\n",
              "      <td>NaN</td>\n",
              "      <td>NaN</td>\n",
              "      <td>NaN</td>\n",
              "      <td>NaN</td>\n",
              "      <td>NaN</td>\n",
              "      <td>NaN</td>\n",
              "      <td>2005.073280</td>\n",
              "      <td>NaN</td>\n",
              "      <td>116.355920</td>\n",
              "      <td>NaN</td>\n",
              "      <td>NaN</td>\n",
              "      <td>5.723360</td>\n",
              "      <td>NaN</td>\n",
              "      <td>NaN</td>\n",
              "      <td>NaN</td>\n",
              "      <td>NaN</td>\n",
              "      <td>0.0</td>\n",
              "      <td>50813.627300</td>\n",
              "      <td>NaN</td>\n",
              "    </tr>\n",
              "    <tr>\n",
              "      <th>std</th>\n",
              "      <td>NaN</td>\n",
              "      <td>NaN</td>\n",
              "      <td>NaN</td>\n",
              "      <td>NaN</td>\n",
              "      <td>NaN</td>\n",
              "      <td>NaN</td>\n",
              "      <td>NaN</td>\n",
              "      <td>105.712813</td>\n",
              "      <td>NaN</td>\n",
              "      <td>209.216627</td>\n",
              "      <td>NaN</td>\n",
              "      <td>NaN</td>\n",
              "      <td>3.711984</td>\n",
              "      <td>NaN</td>\n",
              "      <td>NaN</td>\n",
              "      <td>NaN</td>\n",
              "      <td>NaN</td>\n",
              "      <td>0.0</td>\n",
              "      <td>25779.747957</td>\n",
              "      <td>NaN</td>\n",
              "    </tr>\n",
              "    <tr>\n",
              "      <th>min</th>\n",
              "      <td>NaN</td>\n",
              "      <td>NaN</td>\n",
              "      <td>NaN</td>\n",
              "      <td>NaN</td>\n",
              "      <td>NaN</td>\n",
              "      <td>NaN</td>\n",
              "      <td>NaN</td>\n",
              "      <td>1000.000000</td>\n",
              "      <td>NaN</td>\n",
              "      <td>0.000000</td>\n",
              "      <td>NaN</td>\n",
              "      <td>NaN</td>\n",
              "      <td>0.000000</td>\n",
              "      <td>NaN</td>\n",
              "      <td>NaN</td>\n",
              "      <td>NaN</td>\n",
              "      <td>NaN</td>\n",
              "      <td>0.0</td>\n",
              "      <td>1067.000000</td>\n",
              "      <td>NaN</td>\n",
              "    </tr>\n",
              "    <tr>\n",
              "      <th>25%</th>\n",
              "      <td>NaN</td>\n",
              "      <td>NaN</td>\n",
              "      <td>NaN</td>\n",
              "      <td>NaN</td>\n",
              "      <td>NaN</td>\n",
              "      <td>NaN</td>\n",
              "      <td>NaN</td>\n",
              "      <td>1999.000000</td>\n",
              "      <td>NaN</td>\n",
              "      <td>70.000000</td>\n",
              "      <td>NaN</td>\n",
              "      <td>NaN</td>\n",
              "      <td>3.000000</td>\n",
              "      <td>NaN</td>\n",
              "      <td>NaN</td>\n",
              "      <td>NaN</td>\n",
              "      <td>NaN</td>\n",
              "      <td>0.0</td>\n",
              "      <td>30451.000000</td>\n",
              "      <td>NaN</td>\n",
              "    </tr>\n",
              "    <tr>\n",
              "      <th>50%</th>\n",
              "      <td>NaN</td>\n",
              "      <td>NaN</td>\n",
              "      <td>NaN</td>\n",
              "      <td>NaN</td>\n",
              "      <td>NaN</td>\n",
              "      <td>NaN</td>\n",
              "      <td>NaN</td>\n",
              "      <td>2003.000000</td>\n",
              "      <td>NaN</td>\n",
              "      <td>105.000000</td>\n",
              "      <td>NaN</td>\n",
              "      <td>NaN</td>\n",
              "      <td>6.000000</td>\n",
              "      <td>NaN</td>\n",
              "      <td>NaN</td>\n",
              "      <td>NaN</td>\n",
              "      <td>NaN</td>\n",
              "      <td>0.0</td>\n",
              "      <td>49577.000000</td>\n",
              "      <td>NaN</td>\n",
              "    </tr>\n",
              "    <tr>\n",
              "      <th>75%</th>\n",
              "      <td>NaN</td>\n",
              "      <td>NaN</td>\n",
              "      <td>NaN</td>\n",
              "      <td>NaN</td>\n",
              "      <td>NaN</td>\n",
              "      <td>NaN</td>\n",
              "      <td>NaN</td>\n",
              "      <td>2008.000000</td>\n",
              "      <td>NaN</td>\n",
              "      <td>150.000000</td>\n",
              "      <td>NaN</td>\n",
              "      <td>NaN</td>\n",
              "      <td>9.000000</td>\n",
              "      <td>NaN</td>\n",
              "      <td>NaN</td>\n",
              "      <td>NaN</td>\n",
              "      <td>NaN</td>\n",
              "      <td>0.0</td>\n",
              "      <td>71540.000000</td>\n",
              "      <td>NaN</td>\n",
              "    </tr>\n",
              "    <tr>\n",
              "      <th>max</th>\n",
              "      <td>NaN</td>\n",
              "      <td>NaN</td>\n",
              "      <td>NaN</td>\n",
              "      <td>NaN</td>\n",
              "      <td>NaN</td>\n",
              "      <td>NaN</td>\n",
              "      <td>NaN</td>\n",
              "      <td>9999.000000</td>\n",
              "      <td>NaN</td>\n",
              "      <td>17700.000000</td>\n",
              "      <td>NaN</td>\n",
              "      <td>NaN</td>\n",
              "      <td>12.000000</td>\n",
              "      <td>NaN</td>\n",
              "      <td>NaN</td>\n",
              "      <td>NaN</td>\n",
              "      <td>NaN</td>\n",
              "      <td>0.0</td>\n",
              "      <td>99998.000000</td>\n",
              "      <td>NaN</td>\n",
              "    </tr>\n",
              "  </tbody>\n",
              "</table>\n",
              "</div>"
            ],
            "text/plain": [
              "               date_crawled         name  seller offer_type  price ab_test  \\\n",
              "count                 50000        50000   50000      50000  50000   50000   \n",
              "unique                48213        38754       2          2   2357       2   \n",
              "top     2016-03-14 20:50:02  Ford_Fiesta  privat    Angebot     $0    test   \n",
              "freq                      3           78   49999      49999   1421   25756   \n",
              "mean                    NaN          NaN     NaN        NaN    NaN     NaN   \n",
              "std                     NaN          NaN     NaN        NaN    NaN     NaN   \n",
              "min                     NaN          NaN     NaN        NaN    NaN     NaN   \n",
              "25%                     NaN          NaN     NaN        NaN    NaN     NaN   \n",
              "50%                     NaN          NaN     NaN        NaN    NaN     NaN   \n",
              "75%                     NaN          NaN     NaN        NaN    NaN     NaN   \n",
              "max                     NaN          NaN     NaN        NaN    NaN     NaN   \n",
              "\n",
              "       vehicle_type  registration_year  gearbox      power_ps  model  \\\n",
              "count         44905       50000.000000    47320  50000.000000  47242   \n",
              "unique            8                NaN        2           NaN    245   \n",
              "top       limousine                NaN  manuell           NaN   golf   \n",
              "freq          12859                NaN    36993           NaN   4024   \n",
              "mean            NaN        2005.073280      NaN    116.355920    NaN   \n",
              "std             NaN         105.712813      NaN    209.216627    NaN   \n",
              "min             NaN        1000.000000      NaN      0.000000    NaN   \n",
              "25%             NaN        1999.000000      NaN     70.000000    NaN   \n",
              "50%             NaN        2003.000000      NaN    105.000000    NaN   \n",
              "75%             NaN        2008.000000      NaN    150.000000    NaN   \n",
              "max             NaN        9999.000000      NaN  17700.000000    NaN   \n",
              "\n",
              "         odometer  registration_month fuel_type       brand unrepaired_damage  \\\n",
              "count       50000        50000.000000     45518       50000             40171   \n",
              "unique         13                 NaN         7          40                 2   \n",
              "top     150,000km                 NaN    benzin  volkswagen              nein   \n",
              "freq        32424                 NaN     30107       10687             35232   \n",
              "mean          NaN            5.723360       NaN         NaN               NaN   \n",
              "std           NaN            3.711984       NaN         NaN               NaN   \n",
              "min           NaN            0.000000       NaN         NaN               NaN   \n",
              "25%           NaN            3.000000       NaN         NaN               NaN   \n",
              "50%           NaN            6.000000       NaN         NaN               NaN   \n",
              "75%           NaN            9.000000       NaN         NaN               NaN   \n",
              "max           NaN           12.000000       NaN         NaN               NaN   \n",
              "\n",
              "                 ad_created  num_photos   postal_code            last_seen  \n",
              "count                 50000     50000.0  50000.000000                50000  \n",
              "unique                   76         NaN           NaN                39481  \n",
              "top     2016-04-03 00:00:00         NaN           NaN  2016-04-07 06:17:27  \n",
              "freq                   1946         NaN           NaN                    8  \n",
              "mean                    NaN         0.0  50813.627300                  NaN  \n",
              "std                     NaN         0.0  25779.747957                  NaN  \n",
              "min                     NaN         0.0   1067.000000                  NaN  \n",
              "25%                     NaN         0.0  30451.000000                  NaN  \n",
              "50%                     NaN         0.0  49577.000000                  NaN  \n",
              "75%                     NaN         0.0  71540.000000                  NaN  \n",
              "max                     NaN         0.0  99998.000000                  NaN  "
            ]
          },
          "execution_count": 7,
          "metadata": {},
          "output_type": "execute_result"
        }
      ],
      "source": [
        "#Using include 'all' keyword argument to display both categorical and numeric columns\n",
        "autos.describe(include='all')"
      ]
    },
    {
      "cell_type": "markdown",
      "metadata": {
        "id": "qxIrd6WfXzat"
      },
      "source": [
        "Here we can see a couple of interesting things:\n",
        "1. Columns that mostly have one value and are candidates to be dropped:\n",
        "    - `Seller` & `offer_type`: Only 2 different values for each column but the top ones ('privat'/'Angebot') are on 49,999 rows from 50,000. There is no such value in analyzing these columns.\n",
        "    - `ab_test` only has 2 unique values. We have to investigate a little bit more if it is worth analyzing that column.\n",
        "2. Numeric data stored as text that needs to be cleaned:\n",
        "    - It makes no sense that the top `price` is '0'; this is more likely because it's a string and not an int or a float, so we'll need to convert it.\n",
        "    - `odometer` should be an int or an int or a float, but right now is a string, so we'll need to change it.\n",
        "3. Columns that need more investigation:\n",
        "    - `num_photos` is numeric, but it seems rare in the describe() so we need to review it.   \n",
        "    - `fuel_type` says that there are 7 unique types of fuel, it could be, but it's unlikely, so we will need to review it.\n",
        "    - `registration_year` has a max value of 9999, so we will need to do cleaning and exploration.\n",
        "    - The most frequently `ad_created` value is '1946', and since we are talking about vehicles, this value seems to be wrong."
      ]
    },
    {
      "cell_type": "markdown",
      "metadata": {
        "id": "swwAJUtvXzat"
      },
      "source": [
        "### Columns to be dropped\n",
        "\n",
        "We found that the two columns don't have meaningful information since 49,999 of the 50,000 records are the same. So we will erase those two columns from our data frame. The columns are:\n",
        "1. `seller` and \n",
        "2. `offer_type`\n",
        "\n",
        "Another potential is `num_photos`, so let's review it first to decide if we need to drop it or not."
      ]
    },
    {
      "cell_type": "code",
      "execution_count": null,
      "metadata": {
        "id": "7cOcNLr-Xzat",
        "outputId": "266fde3b-1540-4a1e-e771-062e00a2ba4f"
      },
      "outputs": [
        {
          "data": {
            "text/plain": [
              "0    50000\n",
              "Name: num_photos, dtype: int64"
            ]
          },
          "execution_count": 8,
          "metadata": {},
          "output_type": "execute_result"
        }
      ],
      "source": [
        "autos['num_photos'].value_counts()"
      ]
    },
    {
      "cell_type": "markdown",
      "metadata": {
        "id": "mWOjUld3Xzau"
      },
      "source": [
        "All the data in num_pictures is 0: it appears that none of the listings contain any pictures. We will drop this column along with `seller` and `offer_type`."
      ]
    },
    {
      "cell_type": "code",
      "execution_count": null,
      "metadata": {
        "id": "b8ocphxwXzau",
        "outputId": "3715a2d2-7e03-4192-f766-33df7226ec5c"
      },
      "outputs": [
        {
          "name": "stdout",
          "output_type": "stream",
          "text": [
            "(50000, 20)\n",
            "(50000, 17)\n"
          ]
        }
      ],
      "source": [
        "print(autos.shape)\n",
        "autos = autos.drop(['seller', 'offer_type', 'num_photos'], axis=1)\n",
        "print(autos.shape)"
      ]
    },
    {
      "cell_type": "markdown",
      "metadata": {
        "id": "am8umZW0Xzav"
      },
      "source": [
        "### Numeric values to be changed\n",
        "\n",
        "Two columns make more sense to analyze if they were in a numeric format: `price` and `odometer`. So let's make those changes."
      ]
    },
    {
      "cell_type": "markdown",
      "metadata": {
        "id": "8jiIWjv4Xzav"
      },
      "source": [
        "#### Changing price format\n",
        "\n",
        "Let's explore the `price` column."
      ]
    },
    {
      "cell_type": "code",
      "execution_count": null,
      "metadata": {
        "id": "nZB2A6ByXzav",
        "outputId": "a1442503-8f3f-44f4-f3d2-fe85e24937bf"
      },
      "outputs": [
        {
          "data": {
            "text/plain": [
              "array(['$5,000', '$8,500', '$8,990', '$4,350', '$1,350', '$7,900', '$300',\n",
              "       '$1,990', '$250', '$590'], dtype=object)"
            ]
          },
          "execution_count": 10,
          "metadata": {},
          "output_type": "execute_result"
        }
      ],
      "source": [
        "autos['price'].head(10).unique()"
      ]
    },
    {
      "cell_type": "markdown",
      "metadata": {
        "id": "W2rfhyPlXzav"
      },
      "source": [
        "As we can see we need to remove:\n",
        "- The `$` symbol and\n",
        "- The `,`\n",
        "- Change the type to int\n",
        "\n",
        "So let's do that:"
      ]
    },
    {
      "cell_type": "code",
      "execution_count": null,
      "metadata": {
        "id": "leVscAg1Xzaw",
        "outputId": "314d67ce-cee9-4bf3-9a59-99713e8cd2f4"
      },
      "outputs": [
        {
          "data": {
            "text/plain": [
              "array([5000, 8500, 8990, 4350, 1350, 7900,  300, 1990,  250,  590])"
            ]
          },
          "execution_count": 11,
          "metadata": {},
          "output_type": "execute_result"
        }
      ],
      "source": [
        "autos['price'] = (autos['price']\n",
        "                  .str.replace('$','')\n",
        "                  .str.replace(',','')\n",
        "                  .astype(int)\n",
        "                 )\n",
        "autos.rename({'price':'usd_price'}, axis=1, inplace= True)\n",
        "autos['usd_price'].head(10).unique()"
      ]
    },
    {
      "cell_type": "code",
      "execution_count": null,
      "metadata": {
        "id": "_znDke1hXzaw",
        "outputId": "f9e7195d-af8b-45ef-8772-89ce3fe29c89"
      },
      "outputs": [
        {
          "data": {
            "text/plain": [
              "count       50000.000\n",
              "mean         9840.044\n",
              "std        481104.381\n",
              "min             0.000\n",
              "25%          1100.000\n",
              "50%          2950.000\n",
              "75%          7200.000\n",
              "max      99999999.000\n",
              "Name: usd_price, dtype: object"
            ]
          },
          "execution_count": 12,
          "metadata": {},
          "output_type": "execute_result"
        }
      ],
      "source": [
        "autos['usd_price'].describe().apply(lambda x: '%.3f' % x) #To have the values with non scientific notation"
      ]
    },
    {
      "cell_type": "markdown",
      "metadata": {
        "id": "DxrCh8KZXzax"
      },
      "source": [
        "#### Changing odometer format\n",
        "\n",
        "Let's explore the `odometer` column"
      ]
    },
    {
      "cell_type": "code",
      "execution_count": null,
      "metadata": {
        "id": "me34j2jAXzax",
        "outputId": "db4e97e9-345d-45aa-c8fc-ebdf8c2632eb"
      },
      "outputs": [
        {
          "data": {
            "text/plain": [
              "array(['150,000km', '70,000km', '50,000km', '80,000km', '10,000km',\n",
              "       '30,000km', '125,000km', '90,000km', '20,000km', '60,000km',\n",
              "       '5,000km', '100,000km', '40,000km'], dtype=object)"
            ]
          },
          "execution_count": 13,
          "metadata": {},
          "output_type": "execute_result"
        }
      ],
      "source": [
        "autos['odometer'].unique()"
      ]
    },
    {
      "cell_type": "code",
      "execution_count": null,
      "metadata": {
        "id": "ZGYNKg32Xzax",
        "outputId": "38faf3be-f5db-41eb-9a60-5a287f06beb5"
      },
      "outputs": [
        {
          "data": {
            "text/plain": [
              "array([150000,  70000,  50000,  80000,  10000,  30000, 125000,  90000,\n",
              "        20000,  60000,   5000, 100000,  40000])"
            ]
          },
          "execution_count": 14,
          "metadata": {},
          "output_type": "execute_result"
        }
      ],
      "source": [
        "autos['odometer'] = (autos['odometer']\n",
        "                     .str.replace('km','')\n",
        "                     .str.replace(',','')\n",
        "                     .astype(int)\n",
        "                     )\n",
        "autos.rename({'odometer':'odometer_km'}, axis=1, inplace= True)\n",
        "autos['odometer_km'].unique()"
      ]
    },
    {
      "cell_type": "code",
      "execution_count": null,
      "metadata": {
        "id": "BQsRCq7JXzax",
        "outputId": "fa31f3de-e17a-48e7-ca4e-cf71cf9f66f7"
      },
      "outputs": [
        {
          "data": {
            "text/plain": [
              "count     50000.000\n",
              "mean     125732.700\n",
              "std       40042.212\n",
              "min        5000.000\n",
              "25%      125000.000\n",
              "50%      150000.000\n",
              "75%      150000.000\n",
              "max      150000.000\n",
              "Name: odometer_km, dtype: object"
            ]
          },
          "execution_count": 15,
          "metadata": {},
          "output_type": "execute_result"
        }
      ],
      "source": [
        "autos['odometer_km'].describe().apply(lambda x: '%.3f' % x) #To have the values with non scientific notation"
      ]
    },
    {
      "cell_type": "markdown",
      "metadata": {
        "id": "sY6J2EfAXzay"
      },
      "source": [
        "## Exploring the Odometer and Price Columns\n",
        "\n",
        "### Analying the Odometer\n",
        "\n",
        "We'll start by analyzing the odometer_km and price columns."
      ]
    },
    {
      "cell_type": "code",
      "execution_count": null,
      "metadata": {
        "id": "7I7ElxoyXzay",
        "outputId": "04a0f03a-97ee-4310-a7e0-cf831fb9ae3e"
      },
      "outputs": [
        {
          "data": {
            "text/plain": [
              "(13,)"
            ]
          },
          "execution_count": 16,
          "metadata": {},
          "output_type": "execute_result"
        }
      ],
      "source": [
        "autos['odometer_km'].unique().shape"
      ]
    },
    {
      "cell_type": "markdown",
      "metadata": {
        "id": "UQlB5k05Xzay"
      },
      "source": [
        "We can see that we have 13 unique values. This means that the platform that the users use to sell their used car use a component where the users need to select from pre-established options, like a combo box. So there is nothing wrong here."
      ]
    },
    {
      "cell_type": "code",
      "execution_count": null,
      "metadata": {
        "id": "E2iJyN0hXzay",
        "outputId": "54f648f2-0b0d-431e-a457-e04fc499e569"
      },
      "outputs": [
        {
          "data": {
            "text/plain": [
              "count     50000.000000\n",
              "mean     125732.700000\n",
              "std       40042.211706\n",
              "min        5000.000000\n",
              "25%      125000.000000\n",
              "50%      150000.000000\n",
              "75%      150000.000000\n",
              "max      150000.000000\n",
              "Name: odometer_km, dtype: float64"
            ]
          },
          "execution_count": 17,
          "metadata": {},
          "output_type": "execute_result"
        }
      ],
      "source": [
        "autos['odometer_km'].describe()"
      ]
    },
    {
      "cell_type": "markdown",
      "metadata": {
        "id": "mqXwe5ZsXzay"
      },
      "source": [
        "We don't have missing values since we have 50,000 counting rows. Something interesting is that more than 75% of the Odometer has 150,000 km. According to [The German Vehicle Mileage Survey 2014](https://pdf.sciencedirectassets.com/308315/1-s2.0-S2352146518X00052/1-s2.0-S235214651830214X/main.pdf), on page 6 it shows that on average the **VKT (Vehicle Kilometers traveled) is 13,220 km per year**. What does this tell us? How many years, on average, do these vehicles have?"
      ]
    },
    {
      "cell_type": "code",
      "execution_count": null,
      "metadata": {
        "id": "PGS6DhSsXzaz",
        "outputId": "8aef092d-a7b2-40a3-e592-35d1e29a2bc7"
      },
      "outputs": [
        {
          "data": {
            "text/plain": [
              "11.346444780635402"
            ]
          },
          "execution_count": 18,
          "metadata": {},
          "output_type": "execute_result"
        }
      ],
      "source": [
        "autos['odometer_km'].max() / 13220"
      ]
    },
    {
      "cell_type": "markdown",
      "metadata": {
        "id": "sDYv6cd-Xzaz"
      },
      "source": [
        "**On average German car listings in the eBay auction have 11 years old base on the kilometers traveled and the average German driver's kilometers per year.**\n",
        "\n",
        "Let's now confirm the frequency of the `odometer_km` values."
      ]
    },
    {
      "cell_type": "code",
      "execution_count": null,
      "metadata": {
        "id": "gnoG-VyrXzaz",
        "outputId": "1099cf1e-1caa-4fac-ae3c-ac48f38f56c7"
      },
      "outputs": [
        {
          "data": {
            "text/plain": [
              "150000    32424\n",
              "125000     5170\n",
              "100000     2169\n",
              "90000      1757\n",
              "80000      1436\n",
              "70000      1230\n",
              "60000      1164\n",
              "50000      1027\n",
              "5000        967\n",
              "40000       819\n",
              "30000       789\n",
              "20000       784\n",
              "10000       264\n",
              "Name: odometer_km, dtype: int64"
            ]
          },
          "execution_count": 19,
          "metadata": {},
          "output_type": "execute_result"
        }
      ],
      "source": [
        "autos['odometer_km'].value_counts()"
      ]
    },
    {
      "cell_type": "markdown",
      "metadata": {
        "id": "YODP5oQgXzaz"
      },
      "source": [
        "We can see an interesting pattern: The descending correlation between the km and the frequency in the series. The only exception is the value **5,000** that, curiously, is before 50,000 and 40,000, so maybe the seller sometimes selects the wrong option thinking that they are selecting 50,000. If this is the case, it means an opportunity for the UI/UX designers or the platform. But again, this is just an observation based on the data we have from 2016; maybe backthen, the user interface was different because now it seems that the user can enter their custom values.\n",
        "\n",
        "![ebay_kilometers.jpg](attachment:ebay_kilometers.jpg)"
      ]
    },
    {
      "cell_type": "markdown",
      "metadata": {
        "id": "BBUv_SJOXzaz"
      },
      "source": [
        "### Analyzing the price\n",
        "\n",
        "Now let's analyze the price.\n"
      ]
    },
    {
      "cell_type": "code",
      "execution_count": null,
      "metadata": {
        "scrolled": true,
        "id": "JZXUjYXLXza0",
        "outputId": "77e6fb3b-b411-44fe-c36e-0485004332c6"
      },
      "outputs": [
        {
          "data": {
            "text/plain": [
              "(2357,)"
            ]
          },
          "execution_count": 20,
          "metadata": {},
          "output_type": "execute_result"
        }
      ],
      "source": [
        "autos['usd_price'].unique().shape"
      ]
    },
    {
      "cell_type": "markdown",
      "metadata": {
        "id": "m8_x7bIoXza0"
      },
      "source": [
        "As we can see we have 2,357 unique values for the `usd_price` column. Let's see how is the distribution of those values."
      ]
    },
    {
      "cell_type": "code",
      "execution_count": null,
      "metadata": {
        "scrolled": true,
        "id": "jax1nvJiXza0",
        "outputId": "8da6e6cf-9441-4165-b9dd-db0277af94ee"
      },
      "outputs": [
        {
          "data": {
            "text/plain": [
              "count       50000.000\n",
              "mean         9840.044\n",
              "std        481104.381\n",
              "min             0.000\n",
              "25%          1100.000\n",
              "50%          2950.000\n",
              "75%          7200.000\n",
              "max      99999999.000\n",
              "Name: usd_price, dtype: object"
            ]
          },
          "execution_count": 21,
          "metadata": {},
          "output_type": "execute_result"
        }
      ],
      "source": [
        "autos['usd_price'].describe().apply(lambda x: '%.3f' % x) #To have the values with non scientific notation"
      ]
    },
    {
      "cell_type": "markdown",
      "metadata": {
        "id": "4ylSQqkzXza0"
      },
      "source": [
        "Interestingly we don't have null values, but some values help us understand that we have outliers. The 75% of the `usd_price` values are around 7,200 **but** the std (Standard Deviation) is 481,104, meaning that we have some big outliers that are pushing up the std. We can observe that the `max` value is 99,999,999, which is too away from the rest of our data. \n",
        "\n",
        "We need to dive deeper to understand our `usd_price` a little more to decide how to proceed with the outliers. Let's see the bottom line of our data."
      ]
    },
    {
      "cell_type": "code",
      "execution_count": null,
      "metadata": {
        "scrolled": true,
        "id": "0ISL6ogWXza0",
        "outputId": "51641644-6c48-46f0-af6f-8c3c133c19c8"
      },
      "outputs": [
        {
          "data": {
            "text/plain": [
              "0       1421\n",
              "500      781\n",
              "1500     734\n",
              "2500     643\n",
              "1000     639\n",
              "1200     639\n",
              "600      531\n",
              "800      498\n",
              "3500     498\n",
              "2000     460\n",
              "Name: usd_price, dtype: int64"
            ]
          },
          "execution_count": 22,
          "metadata": {},
          "output_type": "execute_result"
        }
      ],
      "source": [
        "autos['usd_price'].value_counts().head(10)"
      ]
    },
    {
      "cell_type": "markdown",
      "metadata": {
        "id": "OqRNkS-XXza1"
      },
      "source": [
        "As we can see, we have 1,421 records with a `usd_price` of **0**. What do those 1,421 represent from our entire data?"
      ]
    },
    {
      "cell_type": "code",
      "execution_count": null,
      "metadata": {
        "scrolled": true,
        "id": "17DP5gxxXza1",
        "outputId": "f98f223c-60ef-4051-ea6f-7a140e451052"
      },
      "outputs": [
        {
          "data": {
            "text/plain": [
              "0       2.84%\n",
              "500     1.56%\n",
              "1500    1.47%\n",
              "2500    1.29%\n",
              "1000    1.28%\n",
              "1200    1.28%\n",
              "600     1.06%\n",
              "800     1.00%\n",
              "3500    1.00%\n",
              "2000    0.92%\n",
              "Name: usd_price, dtype: object"
            ]
          },
          "execution_count": 23,
          "metadata": {},
          "output_type": "execute_result"
        }
      ],
      "source": [
        "((autos['usd_price'].value_counts(normalize= True)*100).apply(lambda x: '%.2f%%' % x)).head(10)"
      ]
    },
    {
      "cell_type": "markdown",
      "metadata": {
        "id": "q24dCIdhXza1"
      },
      "source": [
        "The 1,421 zero records represent around 3% of our data. It's not that much, and it makes no sense to analyze cars with `usd_price` as 0, so we will drop those values.\n",
        "\n",
        "Now let's see the following values near 0."
      ]
    },
    {
      "cell_type": "code",
      "execution_count": null,
      "metadata": {
        "scrolled": true,
        "id": "pr10hB6ZXza1",
        "outputId": "a9d0e91e-7360-43ab-e77a-40107d0fa553"
      },
      "outputs": [
        {
          "data": {
            "text/plain": [
              "0     1421\n",
              "1      156\n",
              "2        3\n",
              "3        1\n",
              "5        2\n",
              "8        1\n",
              "9        1\n",
              "10       7\n",
              "11       2\n",
              "12       3\n",
              "Name: usd_price, dtype: int64"
            ]
          },
          "execution_count": 24,
          "metadata": {},
          "output_type": "execute_result"
        }
      ],
      "source": [
        "autos['usd_price'].value_counts().sort_index().head(10)"
      ]
    },
    {
      "cell_type": "markdown",
      "metadata": {
        "id": "_Mggww75Xza1"
      },
      "source": [
        "Ok, so we have 156 values with 1 as the `usd_price`. For this analysis we will keep those since is an auction and it could start at $1 so this value will be our bottom line. \n",
        "\n",
        "Now let's analyze the upper values."
      ]
    },
    {
      "cell_type": "code",
      "execution_count": null,
      "metadata": {
        "scrolled": true,
        "id": "bDrDBn0wXza1",
        "outputId": "3d918934-beca-458b-c592-c8faa43f01d4"
      },
      "outputs": [
        {
          "data": {
            "text/plain": [
              "99999999    1\n",
              "27322222    1\n",
              "12345678    3\n",
              "11111111    2\n",
              "10000000    1\n",
              "3890000     1\n",
              "1300000     1\n",
              "1234566     1\n",
              "999999      2\n",
              "999990      1\n",
              "350000      1\n",
              "345000      1\n",
              "299000      1\n",
              "295000      1\n",
              "265000      1\n",
              "259000      1\n",
              "250000      1\n",
              "220000      1\n",
              "198000      1\n",
              "197000      1\n",
              "Name: usd_price, dtype: int64"
            ]
          },
          "execution_count": 25,
          "metadata": {},
          "output_type": "execute_result"
        }
      ],
      "source": [
        "autos['usd_price'].value_counts().sort_index(ascending= False).head(20)\n",
        "\n",
        "#Alternatively we can use tail to have the last 20 values.\n",
        "#autos['usd_price'].value_counts().sort_index().tail(20)"
      ]
    },
    {
      "cell_type": "markdown",
      "metadata": {
        "id": "1foiAEcoXza2"
      },
      "source": [
        "We can see that there are some HUGE outliers values. It is notorious the bump from 350,000 to 999,990. So let's try to graph our data to actually see the distribution."
      ]
    },
    {
      "cell_type": "code",
      "execution_count": null,
      "metadata": {
        "scrolled": true,
        "id": "kKIpi_HgXza2",
        "outputId": "d530143f-1aa3-44b2-8048-39efc4114bba"
      },
      "outputs": [
        {
          "data": {
            "image/png": "[encoded data removed]",
            "text/plain": [
              "<Figure size 600x400 with 1 Axes>"
            ]
          },
          "metadata": {},
          "output_type": "display_data"
        }
      ],
      "source": [
        "import matplotlib.pyplot as plt\n",
        "%matplotlib inline\n",
        "\n",
        "#autos.boxplot(column=['usd_price'])\n",
        "plt.boxplot(autos[\"usd_price\"]) \n",
        "plt.show()"
      ]
    },
    {
      "cell_type": "markdown",
      "metadata": {
        "id": "Vex_TXnaXza2"
      },
      "source": [
        "We can also use the scatter graph to represent our data's distribution. **I still don't know if there is a better way to represent this, I use the `usd_price` in x and y axes, but I'm super open to feedback here**."
      ]
    },
    {
      "cell_type": "code",
      "execution_count": null,
      "metadata": {
        "id": "JacrngmzXza2",
        "outputId": "fa07e582-6cbb-404e-871a-ad609c2a020a"
      },
      "outputs": [
        {
          "data": {
            "image/png": "[encoded data removed]",
            "text/plain": [
              "<Figure size 600x400 with 1 Axes>"
            ]
          },
          "metadata": {},
          "output_type": "display_data"
        }
      ],
      "source": [
        "#from matplotlib import pyplot as plt\n",
        "#import numpy as np\n",
        " \n",
        "#autos['usd_price'].value_counts()\n",
        "\n",
        "plt.scatter(autos['usd_price'].values ,autos['usd_price'].index, label=\"Price in $\")\n",
        "plt.title(\"Car USD Price before cleaning\")\n",
        "plt.legend()\n",
        "plt.show()"
      ]
    },
    {
      "cell_type": "markdown",
      "metadata": {
        "id": "w5Zt-k7TXza2"
      },
      "source": [
        "### Identifying the outliers\n",
        "\n",
        "Using the Boxplot method from Matplotlib, we can visually represent the distribution of our data. The circles we can see are outliers from our data. But how do we know exactly which values we need to drop? Let's use the **IQR** or **Inter Quartile Range** to do this. The **IQR** is a statistical measure used to measure the variability in a given data. In naive terms, it tells us inside what range the bulk of our data lies. \n",
        "\n",
        "We can use the **IQR** method of identifying outliers to set up a “fence” outside of Q1 and Q3. Any values that fall outside of this fence are considered outliers.\n",
        "\n",
        "The **IQR** is calculated as the difference between the first quartile (the 25th percentile) and the third quartile (the 75th percentile) of a dataset. The outlier data points are the ones falling below Q1–1.5 IQR (the \"lower fence\") or above Q3 + 1.5 IQR (the \"upper fence\"). The IQR represents the interquartile range calculated by Q3 minus Q1 (Q3–Q1). So let's put it simple, by using formulas:\n",
        "\n",
        "    IQR = 75th Percentile - 25th Percentile\n",
        "    Lower fence = 25th Percentile - 1.5*(IQR)\n",
        "    Upper fence = 75th Percentile + 1.5*(IQR)\n",
        "\n",
        "Now that we know the method we will use to drop the outliers, let's implement it."
      ]
    },
    {
      "cell_type": "code",
      "execution_count": null,
      "metadata": {
        "scrolled": true,
        "id": "mBgrwUGGXza3",
        "outputId": "6ff4e2ea-19e8-4f87-e933-441c1ba0a11d"
      },
      "outputs": [
        {
          "name": "stdout",
          "output_type": "stream",
          "text": [
            "The value from the 25th percentile is: 1,100.0\n",
            "The value from the 75th percentile is: 7,200.0\n",
            "The IQR fence is: 6,100.0\n",
            "The lower fence is: -8,050.0\n",
            "The upper fence is: 16,350.0\n"
          ]
        }
      ],
      "source": [
        "quantile_25, quantile_75 = autos['usd_price'].quantile([0.25, 0.75])\n",
        "\n",
        "IQR = quantile_75 - quantile_25\n",
        "\n",
        "lower_fence = quantile_25 - (1.5 * IQR)\n",
        "upper_fence = quantile_75 + (1.5 * IQR)\n",
        "\n",
        "print('The value from the 25th percentile is: {:,}'.format(quantile_25))\n",
        "print('The value from the 75th percentile is: {:,}'.format(quantile_75))\n",
        "\n",
        "print('The IQR fence is: {:,}'.format(IQR))\n",
        "print('The lower fence is: {:,}'.format(lower_fence))\n",
        "print('The upper fence is: {:,}'.format(upper_fence))"
      ]
    },
    {
      "cell_type": "markdown",
      "metadata": {
        "id": "9KEKs9v9Xza3"
      },
      "source": [
        "As we can see, the upper fence is 16,350, which makes sense since 75% of our data is near 7,200, and high values push the upper fence a little bit up to the 16k. On the other hand, the lower fence is -8,050, which is not wrong according to the method BUT in our case, knowing the business part, we will decide to keep the data from $1 up to the upper fence.\n",
        "\n",
        "Let's see first how many values we will drop that are above the `upper_fence`."
      ]
    },
    {
      "cell_type": "code",
      "execution_count": null,
      "metadata": {
        "id": "JZnH1sedXza3",
        "outputId": "c91d20bd-adef-4d52-bf66-1e54c7e63337"
      },
      "outputs": [
        {
          "data": {
            "text/html": [
              "<div>\n",
              "<style scoped>\n",
              "    .dataframe tbody tr th:only-of-type {\n",
              "        vertical-align: middle;\n",
              "    }\n",
              "\n",
              "    .dataframe tbody tr th {\n",
              "        vertical-align: top;\n",
              "    }\n",
              "\n",
              "    .dataframe thead th {\n",
              "        text-align: right;\n",
              "    }\n",
              "</style>\n",
              "<table border=\"1\" class=\"dataframe\">\n",
              "  <thead>\n",
              "    <tr style=\"text-align: right;\">\n",
              "      <th></th>\n",
              "      <th>date_crawled</th>\n",
              "      <th>name</th>\n",
              "      <th>usd_price</th>\n",
              "      <th>ab_test</th>\n",
              "      <th>vehicle_type</th>\n",
              "      <th>registration_year</th>\n",
              "      <th>gearbox</th>\n",
              "      <th>power_ps</th>\n",
              "      <th>model</th>\n",
              "      <th>odometer_km</th>\n",
              "      <th>registration_month</th>\n",
              "      <th>fuel_type</th>\n",
              "      <th>brand</th>\n",
              "      <th>unrepaired_damage</th>\n",
              "      <th>ad_created</th>\n",
              "      <th>postal_code</th>\n",
              "      <th>last_seen</th>\n",
              "    </tr>\n",
              "  </thead>\n",
              "  <tbody>\n",
              "    <tr>\n",
              "      <th>15</th>\n",
              "      <td>2016-04-01 12:06:20</td>\n",
              "      <td>Corvette_C3_Coupe_T_Top_Crossfire_Injection</td>\n",
              "      <td>18900</td>\n",
              "      <td>test</td>\n",
              "      <td>coupe</td>\n",
              "      <td>1982</td>\n",
              "      <td>automatik</td>\n",
              "      <td>203</td>\n",
              "      <td>NaN</td>\n",
              "      <td>80000</td>\n",
              "      <td>6</td>\n",
              "      <td>benzin</td>\n",
              "      <td>sonstige_autos</td>\n",
              "      <td>nein</td>\n",
              "      <td>2016-04-01 00:00:00</td>\n",
              "      <td>61276</td>\n",
              "      <td>2016-04-02 21:10:48</td>\n",
              "    </tr>\n",
              "    <tr>\n",
              "      <th>21</th>\n",
              "      <td>2016-03-06 19:07:10</td>\n",
              "      <td>Porsche_911_Carrera_4S_Cabrio</td>\n",
              "      <td>41500</td>\n",
              "      <td>test</td>\n",
              "      <td>cabrio</td>\n",
              "      <td>2004</td>\n",
              "      <td>manuell</td>\n",
              "      <td>320</td>\n",
              "      <td>911</td>\n",
              "      <td>150000</td>\n",
              "      <td>4</td>\n",
              "      <td>benzin</td>\n",
              "      <td>porsche</td>\n",
              "      <td>nein</td>\n",
              "      <td>2016-03-06 00:00:00</td>\n",
              "      <td>65428</td>\n",
              "      <td>2016-04-05 23:46:19</td>\n",
              "    </tr>\n",
              "    <tr>\n",
              "      <th>22</th>\n",
              "      <td>2016-03-28 20:50:54</td>\n",
              "      <td>MINI_Cooper_S_Cabrio</td>\n",
              "      <td>25450</td>\n",
              "      <td>control</td>\n",
              "      <td>cabrio</td>\n",
              "      <td>2015</td>\n",
              "      <td>manuell</td>\n",
              "      <td>184</td>\n",
              "      <td>cooper</td>\n",
              "      <td>10000</td>\n",
              "      <td>1</td>\n",
              "      <td>benzin</td>\n",
              "      <td>mini</td>\n",
              "      <td>nein</td>\n",
              "      <td>2016-03-28 00:00:00</td>\n",
              "      <td>44789</td>\n",
              "      <td>2016-04-01 06:45:30</td>\n",
              "    </tr>\n",
              "    <tr>\n",
              "      <th>24</th>\n",
              "      <td>2016-04-03 11:57:02</td>\n",
              "      <td>BMW_535i_xDrive_Sport_Aut.</td>\n",
              "      <td>48500</td>\n",
              "      <td>control</td>\n",
              "      <td>limousine</td>\n",
              "      <td>2014</td>\n",
              "      <td>automatik</td>\n",
              "      <td>306</td>\n",
              "      <td>5er</td>\n",
              "      <td>30000</td>\n",
              "      <td>12</td>\n",
              "      <td>benzin</td>\n",
              "      <td>bmw</td>\n",
              "      <td>nein</td>\n",
              "      <td>2016-04-03 00:00:00</td>\n",
              "      <td>22547</td>\n",
              "      <td>2016-04-07 13:16:50</td>\n",
              "    </tr>\n",
              "    <tr>\n",
              "      <th>49</th>\n",
              "      <td>2016-03-27 15:36:42</td>\n",
              "      <td>Mercedes_Benz_CL_500__BlueEFFICIENCY__7G_TRONIC</td>\n",
              "      <td>56000</td>\n",
              "      <td>control</td>\n",
              "      <td>coupe</td>\n",
              "      <td>2012</td>\n",
              "      <td>automatik</td>\n",
              "      <td>435</td>\n",
              "      <td>cl</td>\n",
              "      <td>60000</td>\n",
              "      <td>2</td>\n",
              "      <td>benzin</td>\n",
              "      <td>mercedes_benz</td>\n",
              "      <td>nein</td>\n",
              "      <td>2016-03-27 00:00:00</td>\n",
              "      <td>34474</td>\n",
              "      <td>2016-04-05 11:47:52</td>\n",
              "    </tr>\n",
              "    <tr>\n",
              "      <th>...</th>\n",
              "      <td>...</td>\n",
              "      <td>...</td>\n",
              "      <td>...</td>\n",
              "      <td>...</td>\n",
              "      <td>...</td>\n",
              "      <td>...</td>\n",
              "      <td>...</td>\n",
              "      <td>...</td>\n",
              "      <td>...</td>\n",
              "      <td>...</td>\n",
              "      <td>...</td>\n",
              "      <td>...</td>\n",
              "      <td>...</td>\n",
              "      <td>...</td>\n",
              "      <td>...</td>\n",
              "      <td>...</td>\n",
              "      <td>...</td>\n",
              "    </tr>\n",
              "    <tr>\n",
              "      <th>49948</th>\n",
              "      <td>2016-03-22 16:44:57</td>\n",
              "      <td>Hyundai_ix35_2.0_CRDi_4WD_Automatik</td>\n",
              "      <td>19900</td>\n",
              "      <td>test</td>\n",
              "      <td>suv</td>\n",
              "      <td>2013</td>\n",
              "      <td>automatik</td>\n",
              "      <td>184</td>\n",
              "      <td>i_reihe</td>\n",
              "      <td>70000</td>\n",
              "      <td>5</td>\n",
              "      <td>diesel</td>\n",
              "      <td>hyundai</td>\n",
              "      <td>nein</td>\n",
              "      <td>2016-03-22 00:00:00</td>\n",
              "      <td>96515</td>\n",
              "      <td>2016-04-06 06:45:11</td>\n",
              "    </tr>\n",
              "    <tr>\n",
              "      <th>49987</th>\n",
              "      <td>2016-03-22 20:47:27</td>\n",
              "      <td>Audi_A3_Limousine_2.0_TDI_DPF_Ambition__NAVI__...</td>\n",
              "      <td>21990</td>\n",
              "      <td>control</td>\n",
              "      <td>limousine</td>\n",
              "      <td>2013</td>\n",
              "      <td>manuell</td>\n",
              "      <td>150</td>\n",
              "      <td>a3</td>\n",
              "      <td>50000</td>\n",
              "      <td>11</td>\n",
              "      <td>diesel</td>\n",
              "      <td>audi</td>\n",
              "      <td>nein</td>\n",
              "      <td>2016-03-22 00:00:00</td>\n",
              "      <td>94362</td>\n",
              "      <td>2016-03-26 22:46:06</td>\n",
              "    </tr>\n",
              "    <tr>\n",
              "      <th>49990</th>\n",
              "      <td>2016-03-21 19:54:19</td>\n",
              "      <td>Mercedes_Benz_A_200__BlueEFFICIENCY__Urban</td>\n",
              "      <td>17500</td>\n",
              "      <td>test</td>\n",
              "      <td>limousine</td>\n",
              "      <td>2012</td>\n",
              "      <td>manuell</td>\n",
              "      <td>156</td>\n",
              "      <td>a_klasse</td>\n",
              "      <td>30000</td>\n",
              "      <td>12</td>\n",
              "      <td>benzin</td>\n",
              "      <td>mercedes_benz</td>\n",
              "      <td>nein</td>\n",
              "      <td>2016-03-21 00:00:00</td>\n",
              "      <td>58239</td>\n",
              "      <td>2016-04-06 22:46:57</td>\n",
              "    </tr>\n",
              "    <tr>\n",
              "      <th>49995</th>\n",
              "      <td>2016-03-27 14:38:19</td>\n",
              "      <td>Audi_Q5_3.0_TDI_qu._S_tr.__Navi__Panorama__Xenon</td>\n",
              "      <td>24900</td>\n",
              "      <td>control</td>\n",
              "      <td>limousine</td>\n",
              "      <td>2011</td>\n",
              "      <td>automatik</td>\n",
              "      <td>239</td>\n",
              "      <td>q5</td>\n",
              "      <td>100000</td>\n",
              "      <td>1</td>\n",
              "      <td>diesel</td>\n",
              "      <td>audi</td>\n",
              "      <td>nein</td>\n",
              "      <td>2016-03-27 00:00:00</td>\n",
              "      <td>82131</td>\n",
              "      <td>2016-04-01 13:47:40</td>\n",
              "    </tr>\n",
              "    <tr>\n",
              "      <th>49998</th>\n",
              "      <td>2016-03-08 19:25:42</td>\n",
              "      <td>Audi_A3_2.0_TDI_Sportback_Ambition</td>\n",
              "      <td>22900</td>\n",
              "      <td>control</td>\n",
              "      <td>kombi</td>\n",
              "      <td>2013</td>\n",
              "      <td>manuell</td>\n",
              "      <td>150</td>\n",
              "      <td>a3</td>\n",
              "      <td>40000</td>\n",
              "      <td>11</td>\n",
              "      <td>diesel</td>\n",
              "      <td>audi</td>\n",
              "      <td>nein</td>\n",
              "      <td>2016-03-08 00:00:00</td>\n",
              "      <td>35683</td>\n",
              "      <td>2016-04-05 16:45:07</td>\n",
              "    </tr>\n",
              "  </tbody>\n",
              "</table>\n",
              "<p>3784 rows × 17 columns</p>\n",
              "</div>"
            ],
            "text/plain": [
              "              date_crawled                                               name  \\\n",
              "15     2016-04-01 12:06:20        Corvette_C3_Coupe_T_Top_Crossfire_Injection   \n",
              "21     2016-03-06 19:07:10                      Porsche_911_Carrera_4S_Cabrio   \n",
              "22     2016-03-28 20:50:54                               MINI_Cooper_S_Cabrio   \n",
              "24     2016-04-03 11:57:02                         BMW_535i_xDrive_Sport_Aut.   \n",
              "49     2016-03-27 15:36:42    Mercedes_Benz_CL_500__BlueEFFICIENCY__7G_TRONIC   \n",
              "...                    ...                                                ...   \n",
              "49948  2016-03-22 16:44:57                Hyundai_ix35_2.0_CRDi_4WD_Automatik   \n",
              "49987  2016-03-22 20:47:27  Audi_A3_Limousine_2.0_TDI_DPF_Ambition__NAVI__...   \n",
              "49990  2016-03-21 19:54:19         Mercedes_Benz_A_200__BlueEFFICIENCY__Urban   \n",
              "49995  2016-03-27 14:38:19   Audi_Q5_3.0_TDI_qu._S_tr.__Navi__Panorama__Xenon   \n",
              "49998  2016-03-08 19:25:42                 Audi_A3_2.0_TDI_Sportback_Ambition   \n",
              "\n",
              "       usd_price  ab_test vehicle_type  registration_year    gearbox  \\\n",
              "15         18900     test        coupe               1982  automatik   \n",
              "21         41500     test       cabrio               2004    manuell   \n",
              "22         25450  control       cabrio               2015    manuell   \n",
              "24         48500  control    limousine               2014  automatik   \n",
              "49         56000  control        coupe               2012  automatik   \n",
              "...          ...      ...          ...                ...        ...   \n",
              "49948      19900     test          suv               2013  automatik   \n",
              "49987      21990  control    limousine               2013    manuell   \n",
              "49990      17500     test    limousine               2012    manuell   \n",
              "49995      24900  control    limousine               2011  automatik   \n",
              "49998      22900  control        kombi               2013    manuell   \n",
              "\n",
              "       power_ps     model  odometer_km  registration_month fuel_type  \\\n",
              "15          203       NaN        80000                   6    benzin   \n",
              "21          320       911       150000                   4    benzin   \n",
              "22          184    cooper        10000                   1    benzin   \n",
              "24          306       5er        30000                  12    benzin   \n",
              "49          435        cl        60000                   2    benzin   \n",
              "...         ...       ...          ...                 ...       ...   \n",
              "49948       184   i_reihe        70000                   5    diesel   \n",
              "49987       150        a3        50000                  11    diesel   \n",
              "49990       156  a_klasse        30000                  12    benzin   \n",
              "49995       239        q5       100000                   1    diesel   \n",
              "49998       150        a3        40000                  11    diesel   \n",
              "\n",
              "                brand unrepaired_damage           ad_created  postal_code  \\\n",
              "15     sonstige_autos              nein  2016-04-01 00:00:00        61276   \n",
              "21            porsche              nein  2016-03-06 00:00:00        65428   \n",
              "22               mini              nein  2016-03-28 00:00:00        44789   \n",
              "24                bmw              nein  2016-04-03 00:00:00        22547   \n",
              "49      mercedes_benz              nein  2016-03-27 00:00:00        34474   \n",
              "...               ...               ...                  ...          ...   \n",
              "49948         hyundai              nein  2016-03-22 00:00:00        96515   \n",
              "49987            audi              nein  2016-03-22 00:00:00        94362   \n",
              "49990   mercedes_benz              nein  2016-03-21 00:00:00        58239   \n",
              "49995            audi              nein  2016-03-27 00:00:00        82131   \n",
              "49998            audi              nein  2016-03-08 00:00:00        35683   \n",
              "\n",
              "                 last_seen  \n",
              "15     2016-04-02 21:10:48  \n",
              "21     2016-04-05 23:46:19  \n",
              "22     2016-04-01 06:45:30  \n",
              "24     2016-04-07 13:16:50  \n",
              "49     2016-04-05 11:47:52  \n",
              "...                    ...  \n",
              "49948  2016-04-06 06:45:11  \n",
              "49987  2016-03-26 22:46:06  \n",
              "49990  2016-04-06 22:46:57  \n",
              "49995  2016-04-01 13:47:40  \n",
              "49998  2016-04-05 16:45:07  \n",
              "\n",
              "[3784 rows x 17 columns]"
            ]
          },
          "execution_count": 29,
          "metadata": {},
          "output_type": "execute_result"
        }
      ],
      "source": [
        "autos[autos['usd_price'] > upper_fence]"
      ]
    },
    {
      "cell_type": "markdown",
      "metadata": {
        "id": "t4rZSB-0Xza3"
      },
      "source": [
        "As we can see, we have 3,784 rows that are above the Upper fence that we will drop, plus the ones that have 0 as `usd_price` that are 1,421, which means that we will be diminishing our data set in 5,205 records leaving 44,795 rows. So let's do the outlier cleaning:"
      ]
    },
    {
      "cell_type": "code",
      "execution_count": null,
      "metadata": {
        "id": "OahAvtOzXza4"
      },
      "outputs": [],
      "source": [
        "autos = autos[autos['usd_price'].between(1, upper_fence)]"
      ]
    },
    {
      "cell_type": "code",
      "execution_count": null,
      "metadata": {
        "id": "beDBuf7xXza4",
        "outputId": "b9756d71-3f84-4b00-8e76-ca8e42dc6956"
      },
      "outputs": [
        {
          "data": {
            "text/plain": [
              "count    44795.000000\n",
              "mean      4089.433620\n",
              "std       3841.429247\n",
              "min          1.000000\n",
              "25%       1150.000000\n",
              "50%       2700.000000\n",
              "75%       5999.000000\n",
              "max      16350.000000\n",
              "Name: usd_price, dtype: float64"
            ]
          },
          "execution_count": 31,
          "metadata": {},
          "output_type": "execute_result"
        }
      ],
      "source": [
        "autos['usd_price'].describe()"
      ]
    },
    {
      "cell_type": "markdown",
      "metadata": {
        "id": "z5KB4DUpXza4"
      },
      "source": [
        "Perfect! Now that we have cleaned our `usd_price` we can graph it again."
      ]
    },
    {
      "cell_type": "code",
      "execution_count": null,
      "metadata": {
        "scrolled": false,
        "id": "tQgWpUcqXza4",
        "outputId": "b711c4d1-76e2-472e-b152-b80d547b1f5d"
      },
      "outputs": [
        {
          "data": {
            "image/png": "[encoded data removed]",
            "text/plain": [
              "<Figure size 600x400 with 1 Axes>"
            ]
          },
          "metadata": {},
          "output_type": "display_data"
        }
      ],
      "source": [
        "plt.boxplot(autos[\"usd_price\"])\n",
        "plt.show()"
      ]
    },
    {
      "cell_type": "markdown",
      "metadata": {
        "id": "h3YM5aeUXza4"
      },
      "source": [
        "From the Boxplot, we can see that our data is more compact in the area from $1,150 (the 25% percentile) to $5,999 (the 75th percentile). And we can see some circles as outliers, but those are included in our last IQR cleaning, so we are good to work with this data. \n",
        "\n",
        "To see the dispersion of our data, let's graph it using the Scatter graph once again."
      ]
    },
    {
      "cell_type": "code",
      "execution_count": null,
      "metadata": {
        "id": "VKM7RrFNXza5",
        "outputId": "8d51965c-462c-4b94-e75c-801fc2b95735"
      },
      "outputs": [
        {
          "data": {
            "image/png": "[encoded data removed]",
            "text/plain": [
              "<Figure size 600x400 with 1 Axes>"
            ]
          },
          "metadata": {},
          "output_type": "display_data"
        }
      ],
      "source": [
        "plt.scatter(autos['usd_price'].values ,autos['usd_price'].index, label=\"Price in $\")\n",
        "plt.title(\"Car USD Price after cleaning\")\n",
        "plt.legend()\n",
        "plt.show()"
      ]
    },
    {
      "cell_type": "markdown",
      "metadata": {
        "id": "jL1TqiBGXza5"
      },
      "source": [
        "As we can see, the dispersion of the data points is much nearer than before the cleaning (see step 27 to compare it).\n",
        "\n",
        "#### Observations:\n",
        "1. Our dataset has been reduced to 44,795 rows in total. The 25th, 50th, and 75th percentiles are close to their initial values before cleaning.\n",
        "2. The standard deviation (3,841USD) is considerably lower than the value of 480,000USD recorded before.\n",
        "3. 16,350USD is a better approximation for the maximum price than the previous value of 100,000,000USD, considering that our 75th percentile is around 6,000USD.\n",
        "\n",
        "Now, let's focus on the dates columns."
      ]
    },
    {
      "cell_type": "markdown",
      "metadata": {
        "id": "OzKUf72DXza5"
      },
      "source": [
        "## Exploring the date columns\n",
        "\n",
        "Let's now move on to the date columns and understand the date range the data covers.\n",
        "\n",
        "There are 5 columns that should represent date values. Some of these columns were created by the crawler, some came from the website itself. We can differentiate by referring to the data dictionary:\n",
        "\n",
        "- `date_crawled`: added by the crawler\n",
        "- `last_seen`: added by the crawler\n",
        "- `ad_created`: from the website\n",
        "- `registration_month`: from the website\n",
        "- `registration_year`: from the website\n",
        "\n",
        "Right now, the date_crawled, last_seen, and ad_created columns are all identified as string values by pandas. Because these three columns are represented as strings, we need to convert the data into a numerical representation so we can understand it quantitatively. The other two columns are represented as numeric values, so we can use methods like Series.describe() to understand the distribution without any extra data processing.\n",
        "\n",
        "Let's first understand how the values in the three string columns are formatted. These columns all represent full timestamp values, like so:"
      ]
    },
    {
      "cell_type": "code",
      "execution_count": null,
      "metadata": {
        "id": "sAVfx5pYXza5",
        "outputId": "9d82c187-2403-4bf5-cfa7-5aa77da22a4f"
      },
      "outputs": [
        {
          "data": {
            "text/html": [
              "<div>\n",
              "<style scoped>\n",
              "    .dataframe tbody tr th:only-of-type {\n",
              "        vertical-align: middle;\n",
              "    }\n",
              "\n",
              "    .dataframe tbody tr th {\n",
              "        vertical-align: top;\n",
              "    }\n",
              "\n",
              "    .dataframe thead th {\n",
              "        text-align: right;\n",
              "    }\n",
              "</style>\n",
              "<table border=\"1\" class=\"dataframe\">\n",
              "  <thead>\n",
              "    <tr style=\"text-align: right;\">\n",
              "      <th></th>\n",
              "      <th>date_crawled</th>\n",
              "      <th>ad_created</th>\n",
              "      <th>last_seen</th>\n",
              "    </tr>\n",
              "  </thead>\n",
              "  <tbody>\n",
              "    <tr>\n",
              "      <th>0</th>\n",
              "      <td>2016-03-26 17:47:46</td>\n",
              "      <td>2016-03-26 00:00:00</td>\n",
              "      <td>2016-04-06 06:45:54</td>\n",
              "    </tr>\n",
              "    <tr>\n",
              "      <th>1</th>\n",
              "      <td>2016-04-04 13:38:56</td>\n",
              "      <td>2016-04-04 00:00:00</td>\n",
              "      <td>2016-04-06 14:45:08</td>\n",
              "    </tr>\n",
              "    <tr>\n",
              "      <th>2</th>\n",
              "      <td>2016-03-26 18:57:24</td>\n",
              "      <td>2016-03-26 00:00:00</td>\n",
              "      <td>2016-04-06 20:15:37</td>\n",
              "    </tr>\n",
              "    <tr>\n",
              "      <th>3</th>\n",
              "      <td>2016-03-12 16:58:10</td>\n",
              "      <td>2016-03-12 00:00:00</td>\n",
              "      <td>2016-03-15 03:16:28</td>\n",
              "    </tr>\n",
              "    <tr>\n",
              "      <th>4</th>\n",
              "      <td>2016-04-01 14:38:50</td>\n",
              "      <td>2016-04-01 00:00:00</td>\n",
              "      <td>2016-04-01 14:38:50</td>\n",
              "    </tr>\n",
              "  </tbody>\n",
              "</table>\n",
              "</div>"
            ],
            "text/plain": [
              "          date_crawled           ad_created            last_seen\n",
              "0  2016-03-26 17:47:46  2016-03-26 00:00:00  2016-04-06 06:45:54\n",
              "1  2016-04-04 13:38:56  2016-04-04 00:00:00  2016-04-06 14:45:08\n",
              "2  2016-03-26 18:57:24  2016-03-26 00:00:00  2016-04-06 20:15:37\n",
              "3  2016-03-12 16:58:10  2016-03-12 00:00:00  2016-03-15 03:16:28\n",
              "4  2016-04-01 14:38:50  2016-04-01 00:00:00  2016-04-01 14:38:50"
            ]
          },
          "execution_count": 34,
          "metadata": {},
          "output_type": "execute_result"
        }
      ],
      "source": [
        "autos[['date_crawled','ad_created','last_seen']][0:5]\n",
        "#Alternatively way:\n",
        "#autos.loc[0:5, ['date_crawled','ad_created','last_seen']]"
      ]
    },
    {
      "cell_type": "code",
      "execution_count": null,
      "metadata": {
        "id": "3nJ5Lg8HXza6",
        "outputId": "3bffd550-fc70-4219-ab30-e0fbbcd966d2"
      },
      "outputs": [
        {
          "name": "stdout",
          "output_type": "stream",
          "text": [
            "0    2016-03-26\n",
            "1    2016-04-04\n",
            "2    2016-03-26\n",
            "3    2016-03-12\n",
            "4    2016-04-01\n",
            "Name: date_crawled, dtype: object\n"
          ]
        }
      ],
      "source": [
        "print(autos['date_crawled'].str[:10].head())"
      ]
    },
    {
      "cell_type": "code",
      "execution_count": null,
      "metadata": {
        "id": "4AvOCvTpXza6",
        "outputId": "4b650beb-5062-4444-e368-2c1fa9487dfe"
      },
      "outputs": [
        {
          "name": "stdout",
          "output_type": "stream",
          "text": [
            "34\n",
            "2016-03-05    2.55%\n",
            "2016-03-06    1.40%\n",
            "2016-03-07    3.61%\n",
            "2016-03-08    3.36%\n",
            "2016-03-09    3.31%\n",
            "2016-03-10    3.27%\n",
            "2016-03-11    3.25%\n",
            "2016-03-12    3.74%\n",
            "2016-03-13    1.56%\n",
            "2016-03-14    3.70%\n",
            "2016-03-15    3.42%\n",
            "2016-03-16    3.00%\n",
            "2016-03-17    3.20%\n",
            "2016-03-18    1.28%\n",
            "2016-03-19    3.42%\n",
            "2016-03-20    3.77%\n",
            "2016-03-21    3.72%\n",
            "2016-03-22    3.27%\n",
            "2016-03-23    3.25%\n",
            "2016-03-24    2.94%\n",
            "2016-03-25    3.20%\n",
            "2016-03-26    3.26%\n",
            "2016-03-27    3.07%\n",
            "2016-03-28    3.48%\n",
            "2016-03-29    3.42%\n",
            "2016-03-30    3.39%\n",
            "2016-03-31    3.16%\n",
            "2016-04-01    3.28%\n",
            "2016-04-02    3.50%\n",
            "2016-04-03    3.85%\n",
            "2016-04-04    3.64%\n",
            "2016-04-05    1.29%\n",
            "2016-04-06    0.32%\n",
            "2016-04-07    0.13%\n",
            "Name: date_crawled, dtype: object\n"
          ]
        }
      ],
      "source": [
        "print(autos['date_crawled'].str[:10].unique().size)\n",
        "\n",
        "date_crawled = (autos['date_crawled'].str[:10].value_counts(\n",
        "    normalize=True, dropna=False)*100).apply(\n",
        "    lambda x: '%.2f%%' % x).sort_index()\n",
        "\n",
        "print(date_crawled)"
      ]
    },
    {
      "cell_type": "markdown",
      "metadata": {
        "id": "-dCZG8VGXza6"
      },
      "source": [
        "Looks like the site was crawled daily over roughly a one-month period in March and April 2016. The distribution of listings crawled on each day is roughly uniform."
      ]
    },
    {
      "cell_type": "code",
      "execution_count": null,
      "metadata": {
        "id": "TSUaQNniXza7",
        "outputId": "abe53847-215b-4894-e18d-7ed45f6bcf63"
      },
      "outputs": [
        {
          "name": "stdout",
          "output_type": "stream",
          "text": [
            "34\n",
            "2016-03-05     0.12%\n",
            "2016-03-06     0.46%\n",
            "2016-03-07     0.57%\n",
            "2016-03-08     0.79%\n",
            "2016-03-09     1.01%\n",
            "2016-03-10     1.12%\n",
            "2016-03-11     1.30%\n",
            "2016-03-12     2.49%\n",
            "2016-03-13     0.94%\n",
            "2016-03-14     1.29%\n",
            "2016-03-15     1.63%\n",
            "2016-03-16     1.70%\n",
            "2016-03-17     2.90%\n",
            "2016-03-18     0.76%\n",
            "2016-03-19     1.65%\n",
            "2016-03-20     2.12%\n",
            "2016-03-21     2.12%\n",
            "2016-03-22     2.19%\n",
            "2016-03-23     1.91%\n",
            "2016-03-24     2.04%\n",
            "2016-03-25     2.00%\n",
            "2016-03-26     1.72%\n",
            "2016-03-27     1.62%\n",
            "2016-03-28     2.17%\n",
            "2016-03-29     2.30%\n",
            "2016-03-30     2.55%\n",
            "2016-03-31     2.43%\n",
            "2016-04-01     2.33%\n",
            "2016-04-02     2.52%\n",
            "2016-04-03     2.57%\n",
            "2016-04-04     2.50%\n",
            "2016-04-05    12.13%\n",
            "2016-04-06    21.43%\n",
            "2016-04-07    12.62%\n",
            "Name: last_seen, dtype: object\n"
          ]
        }
      ],
      "source": [
        "print(autos['last_seen'].str[:10].unique().size)\n",
        "\n",
        "last_seen = (autos['last_seen'].str[:10].value_counts(\n",
        "    normalize=True, dropna=False)*100).apply(\n",
        "    lambda x: '%.2f%%' % x).sort_index()\n",
        "\n",
        "print(last_seen)"
      ]
    },
    {
      "cell_type": "markdown",
      "metadata": {
        "id": "NbDqrzElXza7"
      },
      "source": [
        "The crawler recorded the date it last saw any listing, which allows us to determine on what day a listing was removed, presumably because the car was sold.\n",
        "\n",
        "The last three days contain a disproportionate amount of 'last seen' values. Given that these are 6-10x the values from the previous days, it's unlikely that there was a massive spike in sales and more likely that these values are to do with the crawling period ending and don't indicate car sales."
      ]
    },
    {
      "cell_type": "code",
      "execution_count": null,
      "metadata": {
        "id": "s9w44NavXza7",
        "outputId": "461b0a5f-cf85-45e1-8519-29554659e893"
      },
      "outputs": [
        {
          "name": "stdout",
          "output_type": "stream",
          "text": [
            "73\n",
            "2015-08-10    0.0022%\n",
            "2015-09-09    0.0022%\n",
            "2015-11-10    0.0022%\n",
            "2015-12-05    0.0022%\n",
            "2015-12-30    0.0022%\n",
            "               ...   \n",
            "2016-04-03    3.8799%\n",
            "2016-04-04    3.6701%\n",
            "2016-04-05    1.1653%\n",
            "2016-04-06    0.3237%\n",
            "2016-04-07    0.1183%\n",
            "Name: ad_created, Length: 73, dtype: object\n"
          ]
        }
      ],
      "source": [
        "print(autos['ad_created'].str[:10].unique().size)\n",
        "\n",
        "ad_created = (autos['ad_created'].str[:10].value_counts(\n",
        "    normalize=True, dropna=False)*100).apply(\n",
        "    lambda x: '%.4f%%' % x).sort_index()\n",
        "\n",
        "print(ad_created)"
      ]
    },
    {
      "cell_type": "markdown",
      "metadata": {
        "id": "rjAV_dDAXza7"
      },
      "source": [
        "There is a large variety of ad-created dates. Most fall within 1-2 months of the listing date, but a few are quite old, with the oldest at around 9 months."
      ]
    },
    {
      "cell_type": "code",
      "execution_count": null,
      "metadata": {
        "id": "xmrZGw2rXza7",
        "outputId": "bc7d3f62-52f6-44ba-bc06-74eec057e9a9"
      },
      "outputs": [
        {
          "data": {
            "text/plain": [
              "count    44795.00000\n",
              "mean      2003.97339\n",
              "std         74.81955\n",
              "min       1000.00000\n",
              "25%       1999.00000\n",
              "50%       2003.00000\n",
              "75%       2007.00000\n",
              "max       9999.00000\n",
              "Name: registration_year, dtype: float64"
            ]
          },
          "execution_count": 39,
          "metadata": {},
          "output_type": "execute_result"
        }
      ],
      "source": [
        "autos['registration_year'].describe()"
      ]
    },
    {
      "cell_type": "markdown",
      "metadata": {
        "id": "X6I7GQKvXza7"
      },
      "source": [
        "#### Observations\n",
        "\n",
        "The registration year column contains some unexpected values:\n",
        "The minimum value is 1000, this is long before 1885 when cars were invented.\n",
        "\n",
        "The maximum value is 9999, many years into the future. We are also aware that the crawler last saw the listings in 2016. A car can't be first registered after its listing has been seen.\n",
        "\n",
        "Since we know that cars were invented in 1885, we can use the first few decades of the 1900s as our lower cut-off point. At the higher end, any record above 2016 is inaccurate since the dataset is from 2016. *Sometimes car dealers sell new cars from the next year during the current year, but since we are analyzing the auction cars from eBay we will take them into consideration until 2016).*\n",
        "\n",
        "Before we eliminate these rows, let's count the number of listings with cars that fall outside the 1900 - 2016 registration year and see if it's safe to remove these rows entirely without impacting our analysis too much."
      ]
    },
    {
      "cell_type": "code",
      "execution_count": null,
      "metadata": {
        "id": "ei6pq0eOXza8",
        "outputId": "734e6491-ce77-4eb8-ae1c-66bd49e748ee"
      },
      "outputs": [
        {
          "name": "stdout",
          "output_type": "stream",
          "text": [
            "The invalid years constitute 4.10% of the total data\n"
          ]
        }
      ],
      "source": [
        "invalid_rows = (~(autos['registration_year'].between(1900, 2016))).sum()\n",
        "total_rows = autos['registration_year'].shape[0]\n",
        "percentage_invalid = invalid_rows/total_rows\n",
        "\n",
        "print('The invalid years constitute {:.2f}% of the total data'.format(percentage_invalid * 100))"
      ]
    },
    {
      "cell_type": "markdown",
      "metadata": {
        "id": "9_Kl0F78Xza8"
      },
      "source": [
        "Since these years constitute only 4.1% of our total data. We can safely eliminate these records from our analysis:"
      ]
    },
    {
      "cell_type": "code",
      "execution_count": null,
      "metadata": {
        "id": "GHrkhS-9Xza8",
        "outputId": "56af6a48-fa4e-4842-dc72-f7cfc37c75aa"
      },
      "outputs": [
        {
          "data": {
            "text/plain": [
              "count    42959.000000\n",
              "mean      2002.395191\n",
              "std          6.750207\n",
              "min       1910.000000\n",
              "25%       1999.000000\n",
              "50%       2003.000000\n",
              "75%       2007.000000\n",
              "max       2016.000000\n",
              "Name: registration_year, dtype: float64"
            ]
          },
          "execution_count": 41,
          "metadata": {},
          "output_type": "execute_result"
        }
      ],
      "source": [
        "autos = autos[autos['registration_year'].between(1900, 2016)]\n",
        "\n",
        "autos['registration_year'].describe()"
      ]
    },
    {
      "cell_type": "code",
      "execution_count": null,
      "metadata": {
        "id": "eqqsMQ3ZXza8",
        "outputId": "6778a4db-cd18-4bb1-c5e6-66615c5b6cb0"
      },
      "outputs": [
        {
          "data": {
            "text/plain": [
              "2000    7.31%\n",
              "2005    6.72%\n",
              "1999    6.72%\n",
              "2003    6.21%\n",
              "2004    6.19%\n",
              "2001    6.09%\n",
              "2006    6.01%\n",
              "2002    5.73%\n",
              "1998    5.47%\n",
              "2007    4.95%\n",
              "Name: registration_year, dtype: object"
            ]
          },
          "execution_count": 42,
          "metadata": {},
          "output_type": "execute_result"
        }
      ],
      "source": [
        "# Many ways to select rows in a dataframe that fall within a value range for a column.\n",
        "# Using `Series.between()` is one way.\n",
        "autos = autos[autos[\"registration_year\"].between(1900,2016)]\n",
        "(autos[\"registration_year\"].value_counts(normalize=True)*100).apply(\n",
        "    lambda x: '%.2f%%' % x).head(10)"
      ]
    },
    {
      "cell_type": "markdown",
      "metadata": {
        "id": "E8SI7V1lXza8"
      },
      "source": [
        "### Observations\n",
        "- It appears that most of the vehicles were registered between 1990 and 2010. \n",
        "- Only a small proportion of listed cars were registered before 1990."
      ]
    },
    {
      "cell_type": "markdown",
      "metadata": {
        "id": "4Ebm_EiTXza9"
      },
      "source": [
        "## Exploring Price by Brand\n",
        "\n",
        "Let's explore the unique values in the brand column to identify the most common brands in the used car listings:"
      ]
    },
    {
      "cell_type": "code",
      "execution_count": null,
      "metadata": {
        "id": "7keDAkr-Xza9",
        "outputId": "346bc12f-56e8-4451-e215-70e478c4b386"
      },
      "outputs": [
        {
          "data": {
            "text/plain": [
              "count          42959\n",
              "unique            40\n",
              "top       volkswagen\n",
              "freq            9226\n",
              "Name: brand, dtype: object"
            ]
          },
          "execution_count": 43,
          "metadata": {},
          "output_type": "execute_result"
        }
      ],
      "source": [
        "autos['brand'].describe()"
      ]
    },
    {
      "cell_type": "code",
      "execution_count": null,
      "metadata": {
        "id": "J5Bg0_G2Xza9",
        "outputId": "8b8f9e2e-db62-460f-b7ee-a5b874ad03f9"
      },
      "outputs": [
        {
          "data": {
            "text/plain": [
              "array(['peugeot', 'bmw', 'volkswagen', 'smart', 'ford', 'chrysler',\n",
              "       'seat', 'renault', 'mercedes_benz', 'audi', 'opel', 'mazda',\n",
              "       'mini', 'toyota', 'dacia', 'nissan', 'jeep', 'saab', 'volvo',\n",
              "       'mitsubishi', 'fiat', 'skoda', 'subaru', 'sonstige_autos', 'kia',\n",
              "       'citroen', 'porsche', 'hyundai', 'chevrolet', 'honda', 'daewoo',\n",
              "       'suzuki', 'trabant', 'land_rover', 'jaguar', 'alfa_romeo', 'lada',\n",
              "       'rover', 'daihatsu', 'lancia'], dtype=object)"
            ]
          },
          "execution_count": 44,
          "metadata": {},
          "output_type": "execute_result"
        }
      ],
      "source": [
        "autos['brand'].unique()"
      ]
    },
    {
      "cell_type": "code",
      "execution_count": null,
      "metadata": {
        "id": "jvDT8LRjXza9",
        "outputId": "720d38b3-c3e4-4404-f90e-02be7b6296b1"
      },
      "outputs": [
        {
          "data": {
            "text/plain": [
              "volkswagen        21.48%\n",
              "opel              11.52%\n",
              "bmw               10.35%\n",
              "mercedes_benz      8.81%\n",
              "audi               7.76%\n",
              "ford               7.31%\n",
              "renault            5.08%\n",
              "peugeot            3.22%\n",
              "fiat               2.77%\n",
              "seat               1.91%\n",
              "skoda              1.70%\n",
              "mazda              1.61%\n",
              "nissan             1.58%\n",
              "smart              1.54%\n",
              "citroen            1.50%\n",
              "toyota             1.34%\n",
              "hyundai            1.05%\n",
              "volvo              0.93%\n",
              "mitsubishi         0.87%\n",
              "sonstige_autos     0.85%\n",
              "honda              0.83%\n",
              "mini               0.78%\n",
              "alfa_romeo         0.70%\n",
              "kia                0.70%\n",
              "suzuki             0.64%\n",
              "chevrolet          0.57%\n",
              "chrysler           0.37%\n",
              "dacia              0.29%\n",
              "daihatsu           0.27%\n",
              "subaru             0.22%\n",
              "jeep               0.20%\n",
              "porsche            0.19%\n",
              "saab               0.18%\n",
              "daewoo             0.16%\n",
              "trabant            0.15%\n",
              "rover              0.14%\n",
              "land_rover         0.13%\n",
              "jaguar             0.12%\n",
              "lancia             0.11%\n",
              "lada               0.06%\n",
              "Name: brand, dtype: object"
            ]
          },
          "execution_count": 45,
          "metadata": {},
          "output_type": "execute_result"
        }
      ],
      "source": [
        "(autos['brand'].value_counts(normalize=True, dropna=False)*100).apply(\n",
        "    lambda x: '%.2f%%' % x)"
      ]
    },
    {
      "cell_type": "markdown",
      "metadata": {
        "id": "LTFcyUycXza9"
      },
      "source": [
        "German manufacturers represent four of our top five brands, almost 50% of the overall listings. Volkswagen is the most popular brand, with approximately double the cars for sale of the next two brands combined.\n",
        "\n",
        "There are lots of brands that don't have a significant percentage of listings, so we will limit our analysis to brands representing more than 5% of total listings."
      ]
    },
    {
      "cell_type": "code",
      "execution_count": null,
      "metadata": {
        "id": "zaIpqvOqXza9",
        "outputId": "efaa645b-8c69-45fb-afa5-cfd69797c201"
      },
      "outputs": [
        {
          "name": "stdout",
          "output_type": "stream",
          "text": [
            "volkswagen       0.214763\n",
            "opel             0.115203\n",
            "bmw              0.103541\n",
            "mercedes_benz    0.088131\n",
            "audi             0.077562\n",
            "ford             0.073093\n",
            "renault          0.050769\n",
            "Name: brand, dtype: float64\n",
            "The top 5% of the cars represents: 72.31% of the total\n"
          ]
        }
      ],
      "source": [
        "autos_percentages = autos['brand'].value_counts(normalize=True, dropna=False)\n",
        "top_5_percent = autos_percentages[autos_percentages > 0.05]\n",
        "print(top_5_percent)\n",
        "print(\"The top 5% of the cars represents: {:.2%} of the total\".format(top_5_percent.sum()))\n"
      ]
    },
    {
      "cell_type": "markdown",
      "metadata": {
        "id": "799AFc_wXza-"
      },
      "source": [
        "As we can see from filtering, the top 5% of brands represent 72.31% of all the cars in the dataset. So let's continue to work with these. We will dive deeper into these top brands and we will explore: \n",
        "- The number of cars by brand\n",
        "- The average price by brand"
      ]
    },
    {
      "cell_type": "code",
      "execution_count": null,
      "metadata": {
        "id": "xJ07xqKFXza-",
        "outputId": "094f3127-2d9d-4f5a-990a-7599bc385f13"
      },
      "outputs": [
        {
          "data": {
            "text/plain": [
              "volkswagen       9226\n",
              "opel             4949\n",
              "bmw              4448\n",
              "mercedes_benz    3786\n",
              "audi             3332\n",
              "ford             3140\n",
              "renault          2181\n",
              "Name: brand, dtype: int64"
            ]
          },
          "execution_count": 47,
          "metadata": {},
          "output_type": "execute_result"
        }
      ],
      "source": [
        "# extract the names of the top 7 brands\n",
        "top_brands = (autos['brand']\n",
        "                  .value_counts()\n",
        "                  .head(7)\n",
        "             )\n",
        "\n",
        "top_brands"
      ]
    },
    {
      "cell_type": "markdown",
      "metadata": {
        "id": "pfeQJN3eXza-"
      },
      "source": [
        "Let's represent this in a graph."
      ]
    },
    {
      "cell_type": "code",
      "execution_count": null,
      "metadata": {
        "id": "R_PSNYG1Xza-",
        "outputId": "e393b3b1-ff08-4481-c478-0c5e05865a6d"
      },
      "outputs": [
        {
          "data": {
            "image/png": "[encoded data removed]",
            "text/plain": [
              "<Figure size 600x400 with 1 Axes>"
            ]
          },
          "metadata": {},
          "output_type": "display_data"
        }
      ],
      "source": [
        "plt.bar(top_brands.index ,top_brands.values, align='center', zorder=2)\n",
        "plt.title(\"Quantity of cars by top brands\")\n",
        "plt.grid(zorder=0)\n",
        "plt.xticks(rotation=90)\n",
        "plt.show()"
      ]
    },
    {
      "cell_type": "markdown",
      "metadata": {
        "id": "dCuWcvetXza-"
      },
      "source": [
        "We can easily see that Volkswagen cars are almost double that of the nearest brand, Opel.\n",
        "\n",
        "Now let's see what the average price per brand is. For this, we will create a Dictionary of Brand: Average price."
      ]
    },
    {
      "cell_type": "code",
      "execution_count": null,
      "metadata": {
        "id": "nUOKiWoiXza-",
        "outputId": "f7cd7b5c-10dd-442b-d3cd-2411ebcab27d"
      },
      "outputs": [
        {
          "name": "stdout",
          "output_type": "stream",
          "text": [
            "Index(['volkswagen', 'opel', 'bmw', 'mercedes_benz', 'audi', 'ford',\n",
            "       'renault'],\n",
            "      dtype='object')\n",
            "audi             5703\n",
            "bmw              5649\n",
            "mercedes_benz    5259\n",
            "volkswagen       4183\n",
            "ford             2944\n",
            "opel             2712\n",
            "renault          2281\n",
            "dtype: int64\n"
          ]
        }
      ],
      "source": [
        "brand_counts = autos[\"brand\"].value_counts(normalize=True)\n",
        "common_brands = brand_counts[brand_counts > .05].index\n",
        "print(common_brands)\n",
        "\n",
        "brand_mean_prices = {}\n",
        "\n",
        "for brand in common_brands:\n",
        "    \n",
        "    prices = autos['usd_price'][autos['brand'] == brand]\n",
        "    mean_price = prices.mean()\n",
        "    brand_mean_prices[brand] = int(mean_price)\n",
        "\n",
        "#We convert the dictionary into a series to sort it easily and represent it later.\n",
        "brand_mean_prices_series = pd.Series(brand_mean_prices) \n",
        "brand_mean_prices_series = brand_mean_prices_series.sort_values(ascending=False)\n",
        "    \n",
        "print(brand_mean_prices_series)"
      ]
    },
    {
      "cell_type": "markdown",
      "metadata": {
        "id": "LcJdBWBpXza_"
      },
      "source": [
        "Let's do a graph to visualize it."
      ]
    },
    {
      "cell_type": "code",
      "execution_count": null,
      "metadata": {
        "id": "pxTzI4tFXza_",
        "outputId": "6de22ddb-3591-45a0-c2bd-7c33796cd18c"
      },
      "outputs": [
        {
          "data": {
            "image/png": "[encoded data removed]",
            "text/plain": [
              "<Figure size 600x400 with 1 Axes>"
            ]
          },
          "metadata": {},
          "output_type": "display_data"
        }
      ],
      "source": [
        "fig, ax = plt.subplots()\n",
        "\n",
        "plt.bar(brand_mean_prices_series.index, brand_mean_prices_series.values, label=\"Price $\", align='center', zorder=2)\n",
        "plt.title(\"Avg. price by brand\")\n",
        "plt.legend()\n",
        "plt.xticks(rotation=90)\n",
        "plt.show()"
      ]
    },
    {
      "cell_type": "markdown",
      "metadata": {
        "id": "2FufZGTvXza_"
      },
      "source": [
        "We can see that Audi and BMW have pretty similar average prices above `$5.5k`, and then Mercedes Benz and Volkswagen follow over `$4k`, and Ford and Opel are less expensive. This means that in Germany, European cars are more likely to retain a better resell price than other foreign brands."
      ]
    },
    {
      "cell_type": "markdown",
      "metadata": {
        "id": "GcDPy_3GXza_"
      },
      "source": [
        "## Exploring the Mileage data\n",
        "\n",
        "For the top 7 brands, we will use aggregation to understand the average mileage for those cars and if there's any visible link with the mean price. Rather than display both aggregated series objects and visually compare them, we will combine the data from both series objects into a single data frame (with a shared index) and display the data frame directly.\n",
        "\n",
        "We have already converted our aggregate_price dictionary into the Pandas series object - price_series using the pd.Series() constructor. Next, we will convert the series object into a Dataframe using the pd.DataFrame() constructor:"
      ]
    },
    {
      "cell_type": "code",
      "execution_count": null,
      "metadata": {
        "id": "yg-owkaDXza_",
        "outputId": "6f648fa7-a0e4-4326-bc54-ab33f02af515"
      },
      "outputs": [
        {
          "data": {
            "text/html": [
              "<div>\n",
              "<style scoped>\n",
              "    .dataframe tbody tr th:only-of-type {\n",
              "        vertical-align: middle;\n",
              "    }\n",
              "\n",
              "    .dataframe tbody tr th {\n",
              "        vertical-align: top;\n",
              "    }\n",
              "\n",
              "    .dataframe thead th {\n",
              "        text-align: right;\n",
              "    }\n",
              "</style>\n",
              "<table border=\"1\" class=\"dataframe\">\n",
              "  <thead>\n",
              "    <tr style=\"text-align: right;\">\n",
              "      <th></th>\n",
              "      <th>avg_price</th>\n",
              "    </tr>\n",
              "  </thead>\n",
              "  <tbody>\n",
              "    <tr>\n",
              "      <th>audi</th>\n",
              "      <td>5703</td>\n",
              "    </tr>\n",
              "    <tr>\n",
              "      <th>bmw</th>\n",
              "      <td>5649</td>\n",
              "    </tr>\n",
              "    <tr>\n",
              "      <th>mercedes_benz</th>\n",
              "      <td>5259</td>\n",
              "    </tr>\n",
              "    <tr>\n",
              "      <th>volkswagen</th>\n",
              "      <td>4183</td>\n",
              "    </tr>\n",
              "    <tr>\n",
              "      <th>ford</th>\n",
              "      <td>2944</td>\n",
              "    </tr>\n",
              "    <tr>\n",
              "      <th>opel</th>\n",
              "      <td>2712</td>\n",
              "    </tr>\n",
              "    <tr>\n",
              "      <th>renault</th>\n",
              "      <td>2281</td>\n",
              "    </tr>\n",
              "  </tbody>\n",
              "</table>\n",
              "</div>"
            ],
            "text/plain": [
              "               avg_price\n",
              "audi                5703\n",
              "bmw                 5649\n",
              "mercedes_benz       5259\n",
              "volkswagen          4183\n",
              "ford                2944\n",
              "opel                2712\n",
              "renault             2281"
            ]
          },
          "execution_count": 51,
          "metadata": {},
          "output_type": "execute_result"
        }
      ],
      "source": [
        "auto_price_mileage = pd.DataFrame(brand_mean_prices_series, columns=['avg_price'])\n",
        "auto_price_mileage"
      ]
    },
    {
      "cell_type": "code",
      "execution_count": null,
      "metadata": {
        "id": "Chlvms8tXzbA",
        "outputId": "79d5e4e5-4391-48c7-cc42-1fecde545a50"
      },
      "outputs": [
        {
          "name": "stdout",
          "output_type": "stream",
          "text": [
            "audi             139701\n",
            "bmw              138833\n",
            "mercedes_benz    138411\n",
            "volkswagen       132813\n",
            "opel             130500\n",
            "renault          128892\n",
            "ford             127004\n",
            "dtype: int64\n"
          ]
        }
      ],
      "source": [
        "brand_mean_km = {}\n",
        "\n",
        "for brand in common_brands:\n",
        "    \n",
        "    km = autos['odometer_km'][autos['brand'] == brand]\n",
        "    mean_km = km.mean()\n",
        "    brand_mean_km[brand] = int(mean_km)\n",
        "\n",
        "#We convert the dictionary into a series to sort it easily and represent it later.\n",
        "brand_mean_km_series = pd.Series(brand_mean_km) \n",
        "brand_mean_km_series = brand_mean_km_series.sort_values(ascending=False)\n",
        "\n",
        "print(brand_mean_km_series)"
      ]
    },
    {
      "cell_type": "code",
      "execution_count": null,
      "metadata": {
        "id": "SXyLmGGlXzbA",
        "outputId": "360dea4f-6684-4abb-c058-1a395faa3b10"
      },
      "outputs": [
        {
          "data": {
            "image/png": "[encoded data removed]",
            "text/plain": [
              "<Figure size 600x400 with 1 Axes>"
            ]
          },
          "metadata": {},
          "output_type": "display_data"
        }
      ],
      "source": [
        "fig, ax = plt.subplots()\n",
        "\n",
        "plt.bar(brand_mean_km_series.index, brand_mean_km_series.values, label=\"km\", align='center', zorder=2)\n",
        "plt.title(\"Avg. km by brand\")\n",
        "plt.legend()\n",
        "plt.xticks(rotation=90)\n",
        "plt.show()"
      ]
    },
    {
      "cell_type": "code",
      "execution_count": null,
      "metadata": {
        "id": "4jvItMdIXzbA",
        "outputId": "bb146534-bdf6-4610-d990-e87d48df1b92"
      },
      "outputs": [
        {
          "data": {
            "text/html": [
              "<div>\n",
              "<style scoped>\n",
              "    .dataframe tbody tr th:only-of-type {\n",
              "        vertical-align: middle;\n",
              "    }\n",
              "\n",
              "    .dataframe tbody tr th {\n",
              "        vertical-align: top;\n",
              "    }\n",
              "\n",
              "    .dataframe thead th {\n",
              "        text-align: right;\n",
              "    }\n",
              "</style>\n",
              "<table border=\"1\" class=\"dataframe\">\n",
              "  <thead>\n",
              "    <tr style=\"text-align: right;\">\n",
              "      <th></th>\n",
              "      <th>avg_price</th>\n",
              "      <th>avg_km</th>\n",
              "    </tr>\n",
              "  </thead>\n",
              "  <tbody>\n",
              "    <tr>\n",
              "      <th>audi</th>\n",
              "      <td>5703</td>\n",
              "      <td>139701</td>\n",
              "    </tr>\n",
              "    <tr>\n",
              "      <th>bmw</th>\n",
              "      <td>5649</td>\n",
              "      <td>138833</td>\n",
              "    </tr>\n",
              "    <tr>\n",
              "      <th>mercedes_benz</th>\n",
              "      <td>5259</td>\n",
              "      <td>138411</td>\n",
              "    </tr>\n",
              "    <tr>\n",
              "      <th>volkswagen</th>\n",
              "      <td>4183</td>\n",
              "      <td>132813</td>\n",
              "    </tr>\n",
              "    <tr>\n",
              "      <th>ford</th>\n",
              "      <td>2944</td>\n",
              "      <td>127004</td>\n",
              "    </tr>\n",
              "    <tr>\n",
              "      <th>opel</th>\n",
              "      <td>2712</td>\n",
              "      <td>130500</td>\n",
              "    </tr>\n",
              "    <tr>\n",
              "      <th>renault</th>\n",
              "      <td>2281</td>\n",
              "      <td>128892</td>\n",
              "    </tr>\n",
              "  </tbody>\n",
              "</table>\n",
              "</div>"
            ],
            "text/plain": [
              "               avg_price  avg_km\n",
              "audi                5703  139701\n",
              "bmw                 5649  138833\n",
              "mercedes_benz       5259  138411\n",
              "volkswagen          4183  132813\n",
              "ford                2944  127004\n",
              "opel                2712  130500\n",
              "renault             2281  128892"
            ]
          },
          "execution_count": 54,
          "metadata": {},
          "output_type": "execute_result"
        }
      ],
      "source": [
        "auto_price_mileage['avg_km'] = brand_mean_km_series\n",
        "auto_price_mileage.sort_values(ascending=False, by='avg_price')"
      ]
    },
    {
      "cell_type": "markdown",
      "metadata": {
        "id": "EUm-ayd6XzbA"
      },
      "source": [
        "### Observations\n",
        "\n",
        "We would expect car prices to fall as mileage increases. However this is not the case here as we notice the more expensive vehicles having higher mileage, and the cheaper ones recording lower mileage."
      ]
    },
    {
      "cell_type": "markdown",
      "metadata": {
        "id": "c9HAJ19VXzbA"
      },
      "source": [
        "# Conclusion\n",
        "\n",
        "**In our analysis of eBay Kleinanzeigen's listings, we identified the most popular cars on the website listings. We examined the relationship between mileage-price, which showed no influence between the price and mileage from the top 5% of cars in the dataset.**\n",
        "\n",
        "## Future steps\n",
        "\n",
        "Here are some next steps we can consider:\n",
        "\n",
        "### Data cleaning next steps:\n",
        "- Identify categorical data that uses german words, translate them and map the values to their English counterparts\n",
        "- Convert the dates to be uniform numeric data, so \"2016-03-21\" becomes the integer 20160321.\n",
        "- See if there are particular keywords in the name column that you can extract as new columns\n",
        "\n",
        "### Analysis next steps:\n",
        "- Find the most common brand/model combinations\n",
        "- Split the odometer_km into groups, and use aggregation to see if average prices follow any patterns based on the mileage.\n",
        "- How much cheaper are cars with damage than their non-damaged counterparts?"
      ]
    }
  ],
  "metadata": {
    "kernelspec": {
      "display_name": "Python 3",
      "language": "python",
      "name": "python3"
    },
    "language_info": {
      "codemirror_mode": {
        "name": "ipython",
        "version": 3
      },
      "file_extension": ".py",
      "mimetype": "text/x-python",
      "name": "python",
      "nbconvert_exporter": "python",
      "pygments_lexer": "ipython3",
      "version": "3.8.2"
    },
    "colab": {
      "provenance": [],
      "include_colab_link": true
    }
  },
  "nbformat": 4,
  "nbformat_minor": 0
}